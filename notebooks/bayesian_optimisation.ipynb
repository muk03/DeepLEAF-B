{
 "cells": [
  {
   "cell_type": "markdown",
   "metadata": {},
   "source": [
    "# Bayesian Optimisation Notebook\n",
    "\n",
    "<h4> This notebook compartmentalises the Bayesian Optimisation aspect of this project for cleanliness</h4>"
   ]
  },
  {
   "cell_type": "code",
   "execution_count": 17,
   "metadata": {},
   "outputs": [
    {
     "data": {
      "text/plain": [
       "<module 'data_utils' from '/Users/Mak/Desktop/Imperial College London/Year Four/MSci Project/Codebase/data_utils.py'>"
      ]
     },
     "execution_count": 17,
     "metadata": {},
     "output_type": "execute_result"
    }
   ],
   "source": [
    "import numpy as np\n",
    "import torch\n",
    "import torch.nn\n",
    "import torch.optim \n",
    "from torch.utils.data import DataLoader, TensorDataset\n",
    "import os\n",
    "from tqdm import tqdm\n",
    "import random\n",
    "\n",
    "import numpy as np\n",
    "import optuna\n",
    "import json\n",
    "\n",
    "# my custom modules\n",
    "import data_utils as du\n",
    "import nn_tools as nt\n",
    "import model_eval as me\n",
    "\n",
    "os.chdir('/Users/Mak/Desktop/Imperial College London/Year Four/MSci Project/Codebase/')\n",
    "DEVICE = torch.device(\"mps\")\n",
    "\n",
    "import importlib\n",
    "\n",
    "importlib.reload(me)\n",
    "importlib.reload(nt)\n",
    "importlib.reload(du)\n"
   ]
  },
  {
   "cell_type": "markdown",
   "metadata": {},
   "source": [
    "Setting the data and storage paths - to extract the raw data and store the binned, normalised data appropriately"
   ]
  },
  {
   "cell_type": "code",
   "execution_count": 20,
   "metadata": {},
   "outputs": [],
   "source": [
    "normal_path = 'nn_outputs/wilson_csr'\n",
    "raw_path = 'raw_data/dstore_csr'\n",
    "number_bins = 10\n",
    "test_amt = 768"
   ]
  },
  {
   "cell_type": "code",
   "execution_count": null,
   "metadata": {},
   "outputs": [],
   "source": [
    "du.file_to_normalise_4d(raw_path, normal_path, number_bins, bkg=False)"
   ]
  },
  {
   "cell_type": "code",
   "execution_count": 21,
   "metadata": {},
   "outputs": [],
   "source": [
    "train_inputs, train_targets, test_inputs, test_targets, file_names = du.load_minmax_heights(normal_path, test_amt)"
   ]
  },
  {
   "cell_type": "code",
   "execution_count": 24,
   "metadata": {},
   "outputs": [
    {
     "name": "stderr",
     "output_type": "stream",
     "text": [
      "[I 2025-03-11 15:21:49,814] A new study created in memory with name: no-name-f7ed276d-f444-4269-962b-fa18005fe627\n",
      "Training Epoch: 34/150, Avg. Loss: 0.0020:  22%|██▏       | 33/150 [00:13<00:47,  2.47it/s]\n",
      "[I 2025-03-11 15:22:03,610] Trial 0 finished with value: 0.001917514884553384 and parameters: {'n_encoder_layers': 4, 'n_decoder_layers': 2, 'encoder_layer_0': 427, 'encoder_layer_1': 196, 'encoder_layer_2': 459, 'encoder_layer_3': 475, 'decoder_layer_0': 617, 'decoder_layer_1': 538, 'dropout_enc_0': True, 'dropout_enc_1': True, 'dropout_enc_2': False, 'dropout_enc_3': False, 'dropout_dec_0': True, 'dropout_dec_1': False, 'latent_dim': 26}. Best is trial 0 with value: 0.001917514884553384.\n"
     ]
    },
    {
     "name": "stdout",
     "output_type": "stream",
     "text": [
      "Early stopping triggered after 34 epochs.\n"
     ]
    },
    {
     "name": "stderr",
     "output_type": "stream",
     "text": [
      "Training Epoch: 68/150, Avg. Loss: 0.0019:  45%|████▍     | 67/150 [00:20<00:25,  3.30it/s]\n",
      "[I 2025-03-11 15:22:24,028] Trial 1 finished with value: 0.0018995304344571196 and parameters: {'n_encoder_layers': 4, 'n_decoder_layers': 1, 'encoder_layer_0': 87, 'encoder_layer_1': 470, 'encoder_layer_2': 225, 'encoder_layer_3': 145, 'decoder_layer_0': 382, 'dropout_enc_0': False, 'dropout_enc_1': False, 'dropout_enc_2': False, 'dropout_enc_3': False, 'dropout_dec_0': False, 'latent_dim': 31}. Best is trial 1 with value: 0.0018995304344571196.\n"
     ]
    },
    {
     "name": "stdout",
     "output_type": "stream",
     "text": [
      "Early stopping triggered after 68 epochs.\n"
     ]
    },
    {
     "name": "stderr",
     "output_type": "stream",
     "text": [
      "Training Epoch: 28/150, Avg. Loss: 0.0020:  18%|█▊        | 27/150 [00:08<00:40,  3.07it/s]\n",
      "[I 2025-03-11 15:22:32,921] Trial 2 finished with value: 0.0019689061264216434 and parameters: {'n_encoder_layers': 3, 'n_decoder_layers': 2, 'encoder_layer_0': 241, 'encoder_layer_1': 503, 'encoder_layer_2': 455, 'decoder_layer_0': 70, 'decoder_layer_1': 153, 'dropout_enc_0': True, 'dropout_enc_1': False, 'dropout_enc_2': False, 'dropout_dec_0': False, 'dropout_dec_1': False, 'latent_dim': 43}. Best is trial 1 with value: 0.0018995304344571196.\n"
     ]
    },
    {
     "name": "stdout",
     "output_type": "stream",
     "text": [
      "Early stopping triggered after 28 epochs.\n"
     ]
    },
    {
     "name": "stderr",
     "output_type": "stream",
     "text": [
      "Training Epoch: 103/150, Avg. Loss: 0.0019:  68%|██████▊   | 102/150 [00:39<00:18,  2.61it/s]\n",
      "[I 2025-03-11 15:23:12,160] Trial 3 finished with value: 0.0019028890928893816 and parameters: {'n_encoder_layers': 3, 'n_decoder_layers': 4, 'encoder_layer_0': 377, 'encoder_layer_1': 74, 'encoder_layer_2': 383, 'decoder_layer_0': 802, 'decoder_layer_1': 388, 'decoder_layer_2': 388, 'decoder_layer_3': 685, 'dropout_enc_0': True, 'dropout_enc_1': True, 'dropout_enc_2': True, 'dropout_dec_0': True, 'dropout_dec_1': True, 'dropout_dec_2': True, 'dropout_dec_3': False, 'latent_dim': 31}. Best is trial 1 with value: 0.0018995304344571196.\n"
     ]
    },
    {
     "name": "stdout",
     "output_type": "stream",
     "text": [
      "Early stopping triggered after 103 epochs.\n"
     ]
    },
    {
     "name": "stderr",
     "output_type": "stream",
     "text": [
      "Training Epoch: 35/150, Avg. Loss: 0.0020:  23%|██▎       | 34/150 [00:11<00:38,  3.04it/s]\n",
      "[I 2025-03-11 15:23:23,476] Trial 4 finished with value: 0.0021145363498362713 and parameters: {'n_encoder_layers': 4, 'n_decoder_layers': 1, 'encoder_layer_0': 432, 'encoder_layer_1': 93, 'encoder_layer_2': 512, 'encoder_layer_3': 248, 'decoder_layer_0': 374, 'dropout_enc_0': False, 'dropout_enc_1': True, 'dropout_enc_2': False, 'dropout_enc_3': False, 'dropout_dec_0': False, 'latent_dim': 51}. Best is trial 1 with value: 0.0018995304344571196.\n"
     ]
    },
    {
     "name": "stdout",
     "output_type": "stream",
     "text": [
      "Early stopping triggered after 35 epochs.\n"
     ]
    },
    {
     "name": "stderr",
     "output_type": "stream",
     "text": [
      "Training Epoch: 35/150, Avg. Loss: 0.0020:  23%|██▎       | 34/150 [00:12<00:42,  2.72it/s]\n",
      "[I 2025-03-11 15:23:36,133] Trial 5 finished with value: 0.0018986331306223292 and parameters: {'n_encoder_layers': 2, 'n_decoder_layers': 4, 'encoder_layer_0': 227, 'encoder_layer_1': 438, 'decoder_layer_0': 656, 'decoder_layer_1': 993, 'decoder_layer_2': 607, 'decoder_layer_3': 497, 'dropout_enc_0': False, 'dropout_enc_1': False, 'dropout_dec_0': False, 'dropout_dec_1': True, 'dropout_dec_2': False, 'dropout_dec_3': True, 'latent_dim': 64}. Best is trial 5 with value: 0.0018986331306223292.\n"
     ]
    },
    {
     "name": "stdout",
     "output_type": "stream",
     "text": [
      "Early stopping triggered after 35 epochs.\n"
     ]
    },
    {
     "name": "stderr",
     "output_type": "stream",
     "text": [
      "Training Epoch: 57/150, Avg. Loss: 0.0020:  37%|███▋      | 56/150 [00:20<00:34,  2.71it/s]\n",
      "[I 2025-03-11 15:23:56,963] Trial 6 finished with value: 0.0018966731586260721 and parameters: {'n_encoder_layers': 2, 'n_decoder_layers': 4, 'encoder_layer_0': 142, 'encoder_layer_1': 269, 'decoder_layer_0': 307, 'decoder_layer_1': 314, 'decoder_layer_2': 628, 'decoder_layer_3': 631, 'dropout_enc_0': True, 'dropout_enc_1': True, 'dropout_dec_0': False, 'dropout_dec_1': False, 'dropout_dec_2': False, 'dropout_dec_3': True, 'latent_dim': 24}. Best is trial 6 with value: 0.0018966731586260721.\n"
     ]
    },
    {
     "name": "stdout",
     "output_type": "stream",
     "text": [
      "Early stopping triggered after 57 epochs.\n"
     ]
    },
    {
     "name": "stderr",
     "output_type": "stream",
     "text": [
      "Training Epoch: 62/150, Avg. Loss: 0.0019:  41%|████      | 61/150 [00:26<00:38,  2.33it/s]\n",
      "[I 2025-03-11 15:24:23,369] Trial 7 finished with value: 0.0019040414990740828 and parameters: {'n_encoder_layers': 3, 'n_decoder_layers': 4, 'encoder_layer_0': 371, 'encoder_layer_1': 306, 'encoder_layer_2': 318, 'decoder_layer_0': 601, 'decoder_layer_1': 795, 'decoder_layer_2': 151, 'decoder_layer_3': 898, 'dropout_enc_0': False, 'dropout_enc_1': True, 'dropout_enc_2': True, 'dropout_dec_0': True, 'dropout_dec_1': True, 'dropout_dec_2': True, 'dropout_dec_3': False, 'latent_dim': 30}. Best is trial 6 with value: 0.0018966731586260721.\n"
     ]
    },
    {
     "name": "stdout",
     "output_type": "stream",
     "text": [
      "Early stopping triggered after 62 epochs.\n"
     ]
    },
    {
     "name": "stderr",
     "output_type": "stream",
     "text": [
      "Training Epoch: 69/150, Avg. Loss: 0.0019:  45%|████▌     | 68/150 [00:26<00:31,  2.61it/s]\n",
      "[I 2025-03-11 15:24:49,612] Trial 8 finished with value: 0.001899994742416311 and parameters: {'n_encoder_layers': 2, 'n_decoder_layers': 3, 'encoder_layer_0': 68, 'encoder_layer_1': 70, 'decoder_layer_0': 250, 'decoder_layer_1': 779, 'decoder_layer_2': 883, 'dropout_enc_0': True, 'dropout_enc_1': False, 'dropout_dec_0': False, 'dropout_dec_1': True, 'dropout_dec_2': False, 'latent_dim': 21}. Best is trial 6 with value: 0.0018966731586260721.\n"
     ]
    },
    {
     "name": "stdout",
     "output_type": "stream",
     "text": [
      "Early stopping triggered after 69 epochs.\n"
     ]
    },
    {
     "name": "stderr",
     "output_type": "stream",
     "text": [
      "Training Epoch: 48/150, Avg. Loss: 0.0020:  31%|███▏      | 47/150 [00:17<00:39,  2.63it/s]\n",
      "[I 2025-03-11 15:25:07,614] Trial 9 finished with value: 0.0019133117166347802 and parameters: {'n_encoder_layers': 4, 'n_decoder_layers': 1, 'encoder_layer_0': 389, 'encoder_layer_1': 459, 'encoder_layer_2': 442, 'encoder_layer_3': 404, 'decoder_layer_0': 620, 'dropout_enc_0': True, 'dropout_enc_1': True, 'dropout_enc_2': False, 'dropout_enc_3': True, 'dropout_dec_0': True, 'latent_dim': 35}. Best is trial 6 with value: 0.0018966731586260721.\n"
     ]
    },
    {
     "name": "stdout",
     "output_type": "stream",
     "text": [
      "Early stopping triggered after 48 epochs.\n"
     ]
    },
    {
     "name": "stderr",
     "output_type": "stream",
     "text": [
      "Training Epoch: 16/150, Avg. Loss: 0.0027:  10%|█         | 15/150 [00:06<00:59,  2.26it/s]\n",
      "[I 2025-03-11 15:25:14,404] Trial 10 finished with value: 0.002604090521344915 and parameters: {'n_encoder_layers': 1, 'n_decoder_layers': 3, 'encoder_layer_0': 159, 'decoder_layer_0': 962, 'decoder_layer_1': 118, 'decoder_layer_2': 973, 'dropout_enc_0': True, 'dropout_dec_0': False, 'dropout_dec_1': False, 'dropout_dec_2': False, 'latent_dim': 9}. Best is trial 6 with value: 0.0018966731586260721.\n"
     ]
    },
    {
     "name": "stdout",
     "output_type": "stream",
     "text": [
      "Early stopping triggered after 16 epochs.\n"
     ]
    },
    {
     "name": "stderr",
     "output_type": "stream",
     "text": [
      "Training Epoch: 62/150, Avg. Loss: 0.0020:  41%|████      | 61/150 [00:18<00:26,  3.35it/s]\n",
      "[I 2025-03-11 15:25:32,760] Trial 11 finished with value: 0.0018964463051815983 and parameters: {'n_encoder_layers': 1, 'n_decoder_layers': 4, 'encoder_layer_0': 252, 'decoder_layer_0': 433, 'decoder_layer_1': 461, 'decoder_layer_2': 625, 'decoder_layer_3': 281, 'dropout_enc_0': False, 'dropout_dec_0': False, 'dropout_dec_1': True, 'dropout_dec_2': False, 'dropout_dec_3': True, 'latent_dim': 61}. Best is trial 11 with value: 0.0018964463051815983.\n"
     ]
    },
    {
     "name": "stdout",
     "output_type": "stream",
     "text": [
      "Early stopping triggered after 62 epochs.\n"
     ]
    },
    {
     "name": "stderr",
     "output_type": "stream",
     "text": [
      "Training Epoch: 77/150, Avg. Loss: 0.0019:  51%|█████     | 76/150 [00:23<00:23,  3.21it/s]\n",
      "[I 2025-03-11 15:25:56,612] Trial 12 finished with value: 0.0019026175104954746 and parameters: {'n_encoder_layers': 1, 'n_decoder_layers': 3, 'encoder_layer_0': 165, 'decoder_layer_0': 376, 'decoder_layer_1': 373, 'decoder_layer_2': 632, 'dropout_enc_0': False, 'dropout_dec_0': False, 'dropout_dec_1': False, 'dropout_dec_2': False, 'latent_dim': 59}. Best is trial 11 with value: 0.0018964463051815983.\n"
     ]
    },
    {
     "name": "stdout",
     "output_type": "stream",
     "text": [
      "Early stopping triggered after 77 epochs.\n"
     ]
    },
    {
     "name": "stderr",
     "output_type": "stream",
     "text": [
      "Training Epoch: 88/150, Avg. Loss: 0.0020:  58%|█████▊    | 87/150 [00:23<00:16,  3.76it/s]\n",
      "[I 2025-03-11 15:26:19,842] Trial 13 finished with value: 0.001910289345687488 and parameters: {'n_encoder_layers': 1, 'n_decoder_layers': 4, 'encoder_layer_0': 313, 'decoder_layer_0': 177, 'decoder_layer_1': 368, 'decoder_layer_2': 703, 'decoder_layer_3': 61, 'dropout_enc_0': False, 'dropout_dec_0': False, 'dropout_dec_1': True, 'dropout_dec_2': False, 'dropout_dec_3': True, 'latent_dim': 12}. Best is trial 11 with value: 0.0018964463051815983.\n"
     ]
    },
    {
     "name": "stdout",
     "output_type": "stream",
     "text": [
      "Early stopping triggered after 88 epochs.\n"
     ]
    },
    {
     "name": "stderr",
     "output_type": "stream",
     "text": [
      "Training Epoch: 55/150, Avg. Loss: 0.0019:  36%|███▌      | 54/150 [00:17<00:31,  3.02it/s]\n",
      "[I 2025-03-11 15:26:37,854] Trial 14 finished with value: 0.0019156988710165024 and parameters: {'n_encoder_layers': 2, 'n_decoder_layers': 3, 'encoder_layer_0': 511, 'encoder_layer_1': 307, 'decoder_layer_0': 459, 'decoder_layer_1': 562, 'decoder_layer_2': 392, 'dropout_enc_0': False, 'dropout_enc_1': True, 'dropout_dec_0': False, 'dropout_dec_1': False, 'dropout_dec_2': False, 'latent_dim': 44}. Best is trial 11 with value: 0.0018964463051815983.\n"
     ]
    },
    {
     "name": "stdout",
     "output_type": "stream",
     "text": [
      "Early stopping triggered after 55 epochs.\n"
     ]
    },
    {
     "name": "stderr",
     "output_type": "stream",
     "text": [
      "Training Epoch: 19/150, Avg. Loss: 0.0027:  12%|█▏        | 18/150 [00:07<00:56,  2.33it/s]\n",
      "[I 2025-03-11 15:26:45,714] Trial 15 finished with value: 0.0026053441542899236 and parameters: {'n_encoder_layers': 1, 'n_decoder_layers': 4, 'encoder_layer_0': 156, 'decoder_layer_0': 237, 'decoder_layer_1': 269, 'decoder_layer_2': 421, 'decoder_layer_3': 306, 'dropout_enc_0': True, 'dropout_dec_0': False, 'dropout_dec_1': True, 'dropout_dec_2': False, 'dropout_dec_3': True, 'latent_dim': 19}. Best is trial 11 with value: 0.0018964463051815983.\n"
     ]
    },
    {
     "name": "stdout",
     "output_type": "stream",
     "text": [
      "Early stopping triggered after 19 epochs.\n"
     ]
    },
    {
     "name": "stderr",
     "output_type": "stream",
     "text": [
      "Training Epoch: 39/150, Avg. Loss: 0.0020:  25%|██▌       | 38/150 [00:14<00:42,  2.63it/s]\n",
      "[I 2025-03-11 15:27:00,323] Trial 16 finished with value: 0.0018936852720798925 and parameters: {'n_encoder_layers': 2, 'n_decoder_layers': 4, 'encoder_layer_0': 286, 'encoder_layer_1': 219, 'decoder_layer_0': 470, 'decoder_layer_1': 645, 'decoder_layer_2': 795, 'decoder_layer_3': 372, 'dropout_enc_0': True, 'dropout_enc_1': True, 'dropout_dec_0': False, 'dropout_dec_1': False, 'dropout_dec_2': True, 'dropout_dec_3': True, 'latent_dim': 50}. Best is trial 16 with value: 0.0018936852720798925.\n"
     ]
    },
    {
     "name": "stdout",
     "output_type": "stream",
     "text": [
      "Early stopping triggered after 39 epochs.\n"
     ]
    },
    {
     "name": "stderr",
     "output_type": "stream",
     "text": [
      "Training Epoch: 48/150, Avg. Loss: 0.0019:  31%|███▏      | 47/150 [00:16<00:36,  2.84it/s]\n",
      "[I 2025-03-11 15:27:17,071] Trial 17 finished with value: 0.0018963664660986979 and parameters: {'n_encoder_layers': 1, 'n_decoder_layers': 3, 'encoder_layer_0': 302, 'decoder_layer_0': 516, 'decoder_layer_1': 645, 'decoder_layer_2': 801, 'dropout_enc_0': False, 'dropout_dec_0': False, 'dropout_dec_1': True, 'dropout_dec_2': True, 'latent_dim': 53}. Best is trial 16 with value: 0.0018936852720798925.\n"
     ]
    },
    {
     "name": "stdout",
     "output_type": "stream",
     "text": [
      "Early stopping triggered after 48 epochs.\n"
     ]
    },
    {
     "name": "stderr",
     "output_type": "stream",
     "text": [
      "Training Epoch: 50/150, Avg. Loss: 0.0020:  33%|███▎      | 49/150 [00:17<00:36,  2.73it/s]\n",
      "[I 2025-03-11 15:27:35,196] Trial 18 finished with value: 0.001967464962945087 and parameters: {'n_encoder_layers': 2, 'n_decoder_layers': 2, 'encoder_layer_0': 313, 'encoder_layer_1': 171, 'decoder_layer_0': 756, 'decoder_layer_1': 712, 'dropout_enc_0': False, 'dropout_enc_1': True, 'dropout_dec_0': True, 'dropout_dec_1': False, 'latent_dim': 54}. Best is trial 16 with value: 0.0018936852720798925.\n"
     ]
    },
    {
     "name": "stdout",
     "output_type": "stream",
     "text": [
      "Early stopping triggered after 50 epochs.\n"
     ]
    },
    {
     "name": "stderr",
     "output_type": "stream",
     "text": [
      "Training Epoch: 53/150, Avg. Loss: 0.0020:  35%|███▍      | 52/150 [00:19<00:35,  2.73it/s]\n",
      "[I 2025-03-11 15:27:54,470] Trial 19 finished with value: 0.0018989253585459664 and parameters: {'n_encoder_layers': 1, 'n_decoder_layers': 3, 'encoder_layer_0': 304, 'decoder_layer_0': 494, 'decoder_layer_1': 643, 'decoder_layer_2': 819, 'dropout_enc_0': True, 'dropout_dec_0': False, 'dropout_dec_1': True, 'dropout_dec_2': True, 'latent_dim': 46}. Best is trial 16 with value: 0.0018936852720798925.\n"
     ]
    },
    {
     "name": "stdout",
     "output_type": "stream",
     "text": [
      "Early stopping triggered after 53 epochs.\n"
     ]
    },
    {
     "name": "stderr",
     "output_type": "stream",
     "text": [
      "Training Epoch: 37/150, Avg. Loss: 0.0020:  24%|██▍       | 36/150 [00:15<00:50,  2.27it/s]\n",
      "[I 2025-03-11 15:28:10,478] Trial 20 finished with value: 0.0019018057937500998 and parameters: {'n_encoder_layers': 2, 'n_decoder_layers': 3, 'encoder_layer_0': 201, 'encoder_layer_1': 374, 'decoder_layer_0': 766, 'decoder_layer_1': 927, 'decoder_layer_2': 1023, 'dropout_enc_0': True, 'dropout_enc_1': False, 'dropout_dec_0': False, 'dropout_dec_1': False, 'dropout_dec_2': True, 'latent_dim': 53}. Best is trial 16 with value: 0.0018936852720798925.\n"
     ]
    },
    {
     "name": "stdout",
     "output_type": "stream",
     "text": [
      "Early stopping triggered after 37 epochs.\n"
     ]
    },
    {
     "name": "stderr",
     "output_type": "stream",
     "text": [
      "Training Epoch: 65/150, Avg. Loss: 0.0019:  43%|████▎     | 64/150 [00:21<00:29,  2.96it/s]\n",
      "[I 2025-03-11 15:28:32,269] Trial 21 finished with value: 0.0018912064588221256 and parameters: {'n_encoder_layers': 1, 'n_decoder_layers': 4, 'encoder_layer_0': 268, 'decoder_layer_0': 500, 'decoder_layer_1': 519, 'decoder_layer_2': 753, 'decoder_layer_3': 299, 'dropout_enc_0': False, 'dropout_dec_0': False, 'dropout_dec_1': True, 'dropout_dec_2': True, 'dropout_dec_3': True, 'latent_dim': 63}. Best is trial 21 with value: 0.0018912064588221256.\n"
     ]
    },
    {
     "name": "stdout",
     "output_type": "stream",
     "text": [
      "Early stopping triggered after 65 epochs.\n"
     ]
    },
    {
     "name": "stderr",
     "output_type": "stream",
     "text": [
      "Training Epoch: 38/150, Avg. Loss: 0.0020:  25%|██▍       | 37/150 [00:13<00:42,  2.67it/s]\n",
      "[I 2025-03-11 15:28:46,287] Trial 22 finished with value: 0.0019015201469301246 and parameters: {'n_encoder_layers': 1, 'n_decoder_layers': 4, 'encoder_layer_0': 275, 'decoder_layer_0': 569, 'decoder_layer_1': 626, 'decoder_layer_2': 805, 'decoder_layer_3': 333, 'dropout_enc_0': False, 'dropout_dec_0': False, 'dropout_dec_1': True, 'dropout_dec_2': True, 'dropout_dec_3': True, 'latent_dim': 57}. Best is trial 21 with value: 0.0018912064588221256.\n"
     ]
    },
    {
     "name": "stdout",
     "output_type": "stream",
     "text": [
      "Early stopping triggered after 38 epochs.\n"
     ]
    },
    {
     "name": "stderr",
     "output_type": "stream",
     "text": [
      "Training Epoch: 66/150, Avg. Loss: 0.0019:  43%|████▎     | 65/150 [00:22<00:29,  2.88it/s]\n",
      "[I 2025-03-11 15:29:09,062] Trial 23 finished with value: 0.0018974896665895358 and parameters: {'n_encoder_layers': 1, 'n_decoder_layers': 3, 'encoder_layer_0': 345, 'decoder_layer_0': 504, 'decoder_layer_1': 697, 'decoder_layer_2': 765, 'dropout_enc_0': False, 'dropout_dec_0': False, 'dropout_dec_1': True, 'dropout_dec_2': True, 'latent_dim': 40}. Best is trial 21 with value: 0.0018912064588221256.\n"
     ]
    },
    {
     "name": "stdout",
     "output_type": "stream",
     "text": [
      "Early stopping triggered after 66 epochs.\n"
     ]
    },
    {
     "name": "stderr",
     "output_type": "stream",
     "text": [
      "Training Epoch: 123/150, Avg. Loss: 0.0020:  81%|████████▏ | 122/150 [00:36<00:08,  3.32it/s]\n",
      "[I 2025-03-11 15:29:45,948] Trial 24 finished with value: 0.0018901043331425171 and parameters: {'n_encoder_layers': 2, 'n_decoder_layers': 4, 'encoder_layer_0': 206, 'encoder_layer_1': 185, 'decoder_layer_0': 713, 'decoder_layer_1': 857, 'decoder_layer_2': 905, 'decoder_layer_3': 87, 'dropout_enc_0': False, 'dropout_enc_1': True, 'dropout_dec_0': False, 'dropout_dec_1': True, 'dropout_dec_2': True, 'dropout_dec_3': True, 'latent_dim': 48}. Best is trial 24 with value: 0.0018901043331425171.\n"
     ]
    },
    {
     "name": "stdout",
     "output_type": "stream",
     "text": [
      "Early stopping triggered after 123 epochs.\n"
     ]
    },
    {
     "name": "stderr",
     "output_type": "stream",
     "text": [
      "Training Epoch: 52/150, Avg. Loss: 0.0021:  34%|███▍      | 51/150 [00:17<00:34,  2.89it/s]\n",
      "[I 2025-03-11 15:30:03,730] Trial 25 finished with value: 0.00200867571766139 and parameters: {'n_encoder_layers': 3, 'n_decoder_layers': 4, 'encoder_layer_0': 202, 'encoder_layer_1': 169, 'encoder_layer_2': 76, 'decoder_layer_0': 932, 'decoder_layer_1': 840, 'decoder_layer_2': 909, 'decoder_layer_3': 54, 'dropout_enc_0': False, 'dropout_enc_1': True, 'dropout_enc_2': True, 'dropout_dec_0': False, 'dropout_dec_1': True, 'dropout_dec_2': True, 'dropout_dec_3': True, 'latent_dim': 48}. Best is trial 24 with value: 0.0018901043331425171.\n"
     ]
    },
    {
     "name": "stdout",
     "output_type": "stream",
     "text": [
      "Early stopping triggered after 52 epochs.\n"
     ]
    },
    {
     "name": "stderr",
     "output_type": "stream",
     "text": [
      "Training Epoch: 74/150, Avg. Loss: 0.0020:  49%|████▊     | 73/150 [00:24<00:25,  2.99it/s]\n",
      "[I 2025-03-11 15:30:28,313] Trial 26 finished with value: 0.0019023910826945212 and parameters: {'n_encoder_layers': 2, 'n_decoder_layers': 4, 'encoder_layer_0': 104, 'encoder_layer_1': 243, 'decoder_layer_0': 871, 'decoder_layer_1': 872, 'decoder_layer_2': 922, 'decoder_layer_3': 190, 'dropout_enc_0': False, 'dropout_enc_1': True, 'dropout_dec_0': True, 'dropout_dec_1': False, 'dropout_dec_2': True, 'dropout_dec_3': True, 'latent_dim': 39}. Best is trial 24 with value: 0.0018901043331425171.\n"
     ]
    },
    {
     "name": "stdout",
     "output_type": "stream",
     "text": [
      "Early stopping triggered after 74 epochs.\n"
     ]
    },
    {
     "name": "stderr",
     "output_type": "stream",
     "text": [
      "Training Epoch: 93/150, Avg. Loss: 0.0019:  61%|██████▏   | 92/150 [00:31<00:19,  2.93it/s]\n",
      "[I 2025-03-11 15:30:59,892] Trial 27 finished with value: 0.0018948589495266788 and parameters: {'n_encoder_layers': 2, 'n_decoder_layers': 4, 'encoder_layer_0': 201, 'encoder_layer_1': 131, 'decoder_layer_0': 681, 'decoder_layer_1': 474, 'decoder_layer_2': 719, 'decoder_layer_3': 449, 'dropout_enc_0': False, 'dropout_enc_1': True, 'dropout_dec_0': False, 'dropout_dec_1': True, 'dropout_dec_2': True, 'dropout_dec_3': True, 'latent_dim': 64}. Best is trial 24 with value: 0.0018901043331425171.\n"
     ]
    },
    {
     "name": "stdout",
     "output_type": "stream",
     "text": [
      "Early stopping triggered after 93 epochs.\n"
     ]
    },
    {
     "name": "stderr",
     "output_type": "stream",
     "text": [
      "Training Epoch: 52/150, Avg. Loss: 0.0019:  34%|███▍      | 51/150 [00:19<00:37,  2.65it/s]\n",
      "[I 2025-03-11 15:31:19,290] Trial 28 finished with value: 0.0018972862599184737 and parameters: {'n_encoder_layers': 3, 'n_decoder_layers': 4, 'encoder_layer_0': 265, 'encoder_layer_1': 220, 'encoder_layer_2': 72, 'decoder_layer_0': 692, 'decoder_layer_1': 722, 'decoder_layer_2': 512, 'decoder_layer_3': 206, 'dropout_enc_0': True, 'dropout_enc_1': True, 'dropout_enc_2': True, 'dropout_dec_0': False, 'dropout_dec_1': True, 'dropout_dec_2': True, 'dropout_dec_3': False, 'latent_dim': 48}. Best is trial 24 with value: 0.0018901043331425171.\n"
     ]
    },
    {
     "name": "stdout",
     "output_type": "stream",
     "text": [
      "Early stopping triggered after 52 epochs.\n"
     ]
    },
    {
     "name": "stderr",
     "output_type": "stream",
     "text": [
      "Training Epoch: 41/150, Avg. Loss: 0.0020:  27%|██▋       | 40/150 [00:15<00:43,  2.55it/s]\n",
      "[I 2025-03-11 15:31:35,150] Trial 29 finished with value: 0.001946172684256453 and parameters: {'n_encoder_layers': 2, 'n_decoder_layers': 2, 'encoder_layer_0': 340, 'encoder_layer_1': 355, 'decoder_layer_0': 862, 'decoder_layer_1': 998, 'dropout_enc_0': True, 'dropout_enc_1': True, 'dropout_dec_0': True, 'dropout_dec_1': False, 'latent_dim': 57}. Best is trial 24 with value: 0.0018901043331425171.\n"
     ]
    },
    {
     "name": "stdout",
     "output_type": "stream",
     "text": [
      "Early stopping triggered after 41 epochs.\n"
     ]
    },
    {
     "name": "stderr",
     "output_type": "stream",
     "text": [
      "Training Epoch: 18/150, Avg. Loss: 0.0027:  11%|█▏        | 17/150 [00:07<00:58,  2.27it/s]\n",
      "[I 2025-03-11 15:31:42,774] Trial 30 finished with value: 0.0026074115667142905 and parameters: {'n_encoder_layers': 2, 'n_decoder_layers': 4, 'encoder_layer_0': 224, 'encoder_layer_1': 133, 'decoder_layer_0': 579, 'decoder_layer_1': 486, 'decoder_layer_2': 859, 'decoder_layer_3': 408, 'dropout_enc_0': False, 'dropout_enc_1': True, 'dropout_dec_0': False, 'dropout_dec_1': True, 'dropout_dec_2': True, 'dropout_dec_3': True, 'latent_dim': 50}. Best is trial 24 with value: 0.0018901043331425171.\n"
     ]
    },
    {
     "name": "stdout",
     "output_type": "stream",
     "text": [
      "Early stopping triggered after 18 epochs.\n"
     ]
    },
    {
     "name": "stderr",
     "output_type": "stream",
     "text": [
      "Training Epoch: 97/150, Avg. Loss: 0.0019:  64%|██████▍   | 96/150 [00:34<00:19,  2.78it/s]\n",
      "[I 2025-03-11 15:32:17,424] Trial 31 finished with value: 0.0018965470626426395 and parameters: {'n_encoder_layers': 2, 'n_decoder_layers': 4, 'encoder_layer_0': 191, 'encoder_layer_1': 124, 'decoder_layer_0': 699, 'decoder_layer_1': 451, 'decoder_layer_2': 724, 'decoder_layer_3': 467, 'dropout_enc_0': False, 'dropout_enc_1': True, 'dropout_dec_0': False, 'dropout_dec_1': True, 'dropout_dec_2': True, 'dropout_dec_3': True, 'latent_dim': 62}. Best is trial 24 with value: 0.0018901043331425171.\n"
     ]
    },
    {
     "name": "stdout",
     "output_type": "stream",
     "text": [
      "Early stopping triggered after 97 epochs.\n"
     ]
    },
    {
     "name": "stderr",
     "output_type": "stream",
     "text": [
      "Training Epoch: 80/150, Avg. Loss: 0.0019:  53%|█████▎    | 79/150 [00:29<00:26,  2.69it/s]\n",
      "[I 2025-03-11 15:32:47,099] Trial 32 finished with value: 0.0019007148366654292 and parameters: {'n_encoder_layers': 2, 'n_decoder_layers': 4, 'encoder_layer_0': 284, 'encoder_layer_1': 139, 'decoder_layer_0': 656, 'decoder_layer_1': 556, 'decoder_layer_2': 717, 'decoder_layer_3': 593, 'dropout_enc_0': False, 'dropout_enc_1': True, 'dropout_dec_0': False, 'dropout_dec_1': True, 'dropout_dec_2': True, 'dropout_dec_3': True, 'latent_dim': 64}. Best is trial 24 with value: 0.0018901043331425171.\n"
     ]
    },
    {
     "name": "stdout",
     "output_type": "stream",
     "text": [
      "Early stopping triggered after 80 epochs.\n"
     ]
    },
    {
     "name": "stderr",
     "output_type": "stream",
     "text": [
      "Training Epoch: 44/150, Avg. Loss: 0.0020:  29%|██▊       | 43/150 [00:17<00:43,  2.45it/s]\n",
      "[I 2025-03-11 15:33:04,807] Trial 33 finished with value: 0.001919640002597589 and parameters: {'n_encoder_layers': 3, 'n_decoder_layers': 4, 'encoder_layer_0': 113, 'encoder_layer_1': 210, 'encoder_layer_2': 194, 'decoder_layer_0': 432, 'decoder_layer_1': 538, 'decoder_layer_2': 539, 'decoder_layer_3': 402, 'dropout_enc_0': False, 'dropout_enc_1': True, 'dropout_enc_2': True, 'dropout_dec_0': False, 'dropout_dec_1': True, 'dropout_dec_2': True, 'dropout_dec_3': True, 'latent_dim': 57}. Best is trial 24 with value: 0.0018901043331425171.\n"
     ]
    },
    {
     "name": "stdout",
     "output_type": "stream",
     "text": [
      "Early stopping triggered after 44 epochs.\n"
     ]
    },
    {
     "name": "stderr",
     "output_type": "stream",
     "text": [
      "Training Epoch: 45/150, Avg. Loss: 0.0020:  29%|██▉       | 44/150 [00:15<00:38,  2.79it/s]\n",
      "[I 2025-03-11 15:33:20,730] Trial 34 finished with value: 0.0019184036027581897 and parameters: {'n_encoder_layers': 2, 'n_decoder_layers': 4, 'encoder_layer_0': 236, 'encoder_layer_1': 249, 'decoder_layer_0': 734, 'decoder_layer_1': 603, 'decoder_layer_2': 948, 'decoder_layer_3': 158, 'dropout_enc_0': False, 'dropout_enc_1': True, 'dropout_dec_0': False, 'dropout_dec_1': True, 'dropout_dec_2': True, 'dropout_dec_3': True, 'latent_dim': 60}. Best is trial 24 with value: 0.0018901043331425171.\n"
     ]
    },
    {
     "name": "stdout",
     "output_type": "stream",
     "text": [
      "Early stopping triggered after 45 epochs.\n",
      "Early stopping triggered after 35 trials.\n"
     ]
    }
   ],
   "source": [
    "cfg_CVAE = {'batch_train' : 64,\n",
    "       'batch_test' : 8,\n",
    "       'epochs' : 150,\n",
    "       'dim': [len(train_inputs[0]), len(train_targets[0])],\n",
    "       }\n",
    "\n",
    "stopping_patience = 10\n",
    "\n",
    "def objective(trial, train_inputs=train_inputs, train_targets=train_targets,test_inputs=test_inputs, test_targets=test_targets):\n",
    "\n",
    "    s = 42\n",
    "\n",
    "    torch.use_deterministic_algorithms(True)\n",
    "    torch.backends.mps.deterministic = True\n",
    "    torch.backends.mps.benchmark = False\n",
    "\n",
    "    np.random.seed(s)\n",
    "    torch.manual_seed(s)\n",
    "    torch.mps.manual_seed(s)\n",
    "    random.seed(s)\n",
    "\n",
    "    # Choose the number of layers on either end\n",
    "    n_encoder_layers = trial.suggest_int('n_encoder_layers', 1, 4)\n",
    "    n_decoder_layers = trial.suggest_int('n_decoder_layers', 1, 4)\n",
    "\n",
    "    # Choose the size of each layer in the model\n",
    "    encoder_layers = [trial.suggest_int(f'encoder_layer_{i}', 48, 512) for i in range(n_encoder_layers)]\n",
    "    decoder_layers = [trial.suggest_int(f'decoder_layer_{i}', 48, 1024) for i in range(n_decoder_layers)]\n",
    "    \n",
    "    # Choose whether to include a dropouts layer or not\n",
    "    dropout_enc = [trial.suggest_categorical(f'dropout_enc_{i}', [True, False]) for i in range(n_encoder_layers)]\n",
    "    dropout_dec = [trial.suggest_categorical(f'dropout_dec_{i}', [True, False]) for i in range(n_decoder_layers)]\n",
    "\n",
    "    # Defined the all important latent dimension size\n",
    "    latent_dim = trial.suggest_int('latent_dim', 8, 64)\n",
    "    \n",
    "    # Initialise dataloaders and model with the trial parameters\n",
    "    load_train = DataLoader(TensorDataset(train_inputs, train_targets), batch_size=64, shuffle=True, num_workers=0)\n",
    "    load_test = DataLoader(TensorDataset(test_inputs, test_targets), batch_size=8, shuffle=False, num_workers=0)\n",
    "\n",
    "    model = nt.CVAE_Opt(input_shape=cfg_CVAE['dim'][0], output_shape=cfg_CVAE['dim'][1], latent_dim=latent_dim, encoder_layers=encoder_layers, decoder_layers=decoder_layers,\n",
    "                 dropout_enc=dropout_enc, dropout_dec=dropout_dec)\n",
    "    model.to(DEVICE)\n",
    "    optimiser = torch.optim.AdamW(model.parameters(), lr=1e-3, weight_decay=1e-4)\n",
    "\n",
    "\n",
    "    early_stopping_patience = 10\n",
    "    best_val_loss = np.inf\n",
    "    epochs_without_improvement = 0\n",
    "\n",
    "    # Training loops\n",
    "    for epoch in (pbar := tqdm(range(cfg_CVAE['epochs']))):\n",
    "        avg_loss, avg_val_loss = nt.train_epoch_early_CVAE(model, load_train, load_test, nt.loss_function, optimiser, DEVICE)\n",
    "        pbar.set_description(f\"Training Epoch: {epoch + 1}/{cfg_CVAE['epochs']}, Avg. Loss: {avg_loss:.4f}\")\n",
    "\n",
    "        if avg_val_loss < best_val_loss:\n",
    "            best_val_loss = avg_val_loss\n",
    "            epochs_without_improvement = 0\n",
    "\n",
    "        else:\n",
    "            epochs_without_improvement += 1\n",
    "\n",
    "        if epochs_without_improvement >= early_stopping_patience:\n",
    "            print(f\"Early stopping triggered after {epoch + 1} epochs.\")\n",
    "            break\n",
    "\n",
    "    # Evaluate the model finally, and return the test loss to be minimised\n",
    "    test_loss = nt.test_epoch_CVAE(model=model, dataloader=load_test, criterion=nt.loss_function, device=DEVICE)\n",
    "\n",
    "    return test_loss\n",
    "\n",
    "class EarlyStoppingCallback:\n",
    "    def __init__(self, patience):\n",
    "        self.patience = patience\n",
    "        self.best_value = np.inf\n",
    "        self.epochs_without_improvement = 0\n",
    "\n",
    "    def __call__(self, study, trial):\n",
    "        current_value = trial.value\n",
    "        if current_value < self.best_value:\n",
    "            self.best_value = current_value\n",
    "            self.epochs_without_improvement = 0\n",
    "        else:\n",
    "            self.epochs_without_improvement += 1\n",
    "\n",
    "        if self.epochs_without_improvement >= self.patience:\n",
    "            print(f\"Early stopping triggered after {trial.number + 1} trials.\")\n",
    "            study.stop()\n",
    "\n",
    "# Create the Optuna study with early stopping\n",
    "DEVICE = torch.device('mps')\n",
    "early_stopping = EarlyStoppingCallback(patience=stopping_patience)\n",
    "study = optuna.create_study(direction='minimize')\n",
    "study.optimize(objective, n_trials=75, callbacks=[early_stopping])\n"
   ]
  },
  {
   "cell_type": "code",
   "execution_count": 25,
   "metadata": {},
   "outputs": [
    {
     "name": "stdout",
     "output_type": "stream",
     "text": [
      "Output dictionary saved to wilson_csr.json\n"
     ]
    }
   ],
   "source": [
    "model_param = study.best_trial\n",
    "output_file_path = normal_path.split('/')[1] + '.json'\n",
    "\n",
    "with open(output_file_path, 'w') as json_file:\n",
    "    json.dump(model_param.params, json_file, indent=4)\n",
    "\n",
    "print(f\"Output dictionary saved to {output_file_path}\")"
   ]
  },
  {
   "cell_type": "code",
   "execution_count": null,
   "metadata": {},
   "outputs": [],
   "source": []
  }
 ],
 "metadata": {
  "kernelspec": {
   "display_name": "msci_env",
   "language": "python",
   "name": "python3"
  },
  "language_info": {
   "codemirror_mode": {
    "name": "ipython",
    "version": 3
   },
   "file_extension": ".py",
   "mimetype": "text/x-python",
   "name": "python",
   "nbconvert_exporter": "python",
   "pygments_lexer": "ipython3",
   "version": "3.9.20"
  }
 },
 "nbformat": 4,
 "nbformat_minor": 2
}
