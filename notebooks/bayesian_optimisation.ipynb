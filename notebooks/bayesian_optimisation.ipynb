{
 "cells": [
  {
   "cell_type": "markdown",
   "metadata": {},
   "source": [
    "# Bayesian Optimisation Notebook\n",
    "\n",
    "<h4> This notebook compartmentalises the Bayesian Optimisation aspect of this project for cleanliness</h4>"
   ]
  },
  {
   "cell_type": "code",
   "execution_count": 2,
   "metadata": {},
   "outputs": [
    {
     "name": "stderr",
     "output_type": "stream",
     "text": [
      "/opt/anaconda3/envs/msci_env/lib/python3.9/site-packages/tqdm/auto.py:21: TqdmWarning: IProgress not found. Please update jupyter and ipywidgets. See https://ipywidgets.readthedocs.io/en/stable/user_install.html\n",
      "  from .autonotebook import tqdm as notebook_tqdm\n"
     ]
    },
    {
     "data": {
      "text/plain": [
       "<module 'data_utils' from '/Users/Mak/Desktop/Imperial College London/Year Four/MSci Project/Codebase/data_utils.py'>"
      ]
     },
     "execution_count": 2,
     "metadata": {},
     "output_type": "execute_result"
    }
   ],
   "source": [
    "import numpy as np\n",
    "import torch\n",
    "import torch.nn\n",
    "import torch.optim \n",
    "from torch.utils.data import DataLoader, TensorDataset\n",
    "\n",
    "import os\n",
    "from tqdm import tqdm\n",
    "import random\n",
    "import glob\n",
    "\n",
    "import optuna\n",
    "import json\n",
    "\n",
    "# my custom modules\n",
    "import data_utils as du\n",
    "import nn_tools as nt\n",
    "import model_eval as me\n",
    "\n",
    "os.chdir('/Users/Mak/Desktop/Imperial College London/Year Four/MSci Project/Codebase/')\n",
    "DEVICE = torch.device(\"mps\")\n",
    "\n",
    "import importlib\n",
    "\n",
    "importlib.reload(me)\n",
    "importlib.reload(nt)\n",
    "importlib.reload(du)\n"
   ]
  },
  {
   "cell_type": "markdown",
   "metadata": {},
   "source": [
    "Setting the data and storage paths - to extract the raw data and store the binned, normalised data appropriately"
   ]
  },
  {
   "cell_type": "code",
   "execution_count": 3,
   "metadata": {},
   "outputs": [],
   "source": [
    "normal_path = 'nn_outputs/wilson_mu_csr_cvr'\n",
    "raw_path = 'raw_data/dstore_mu_csr_cvr'\n",
    "\n",
    "number_bins = 10"
   ]
  },
  {
   "cell_type": "code",
   "execution_count": 10,
   "metadata": {},
   "outputs": [
    {
     "name": "stderr",
     "output_type": "stream",
     "text": [
      "Processing File No. model_WET_mu_1411: 100%|██████████| 3570/3570 [10:07<00:00,  5.87it/s]\n"
     ]
    }
   ],
   "source": [
    "du.file_to_normalise_4d(raw_path, normal_path, number_bins, bkg=False)"
   ]
  },
  {
   "cell_type": "code",
   "execution_count": 4,
   "metadata": {},
   "outputs": [],
   "source": [
    "number_of_files = len(glob.glob(normal_path + '/normal_targets/*.csv'))\n",
    "\n",
    "train_amount = int(0.7 * number_of_files)\n",
    "val_amount = int(0.15 * number_of_files)"
   ]
  },
  {
   "cell_type": "code",
   "execution_count": 5,
   "metadata": {},
   "outputs": [
    {
     "name": "stdout",
     "output_type": "stream",
     "text": [
      "CSV Files: Bin Heights Already Normalised.\n"
     ]
    }
   ],
   "source": [
    "train_inputs, train_targets, val_test_inputs, val_test_targets, file_names = du.load_minmax_heights(normal_path, train_amount)\n",
    "\n",
    "# =-=-=-= Splitting the remaining data into validation and testing datasets =-=-=-=\n",
    "val_inputs, val_targets = val_test_inputs[:val_amount], val_test_targets[:val_amount]\n",
    "\n",
    "test_inputs, test_targets = val_test_inputs[val_amount:], val_test_targets[val_amount:]"
   ]
  },
  {
   "cell_type": "code",
   "execution_count": 6,
   "metadata": {},
   "outputs": [
    {
     "name": "stderr",
     "output_type": "stream",
     "text": [
      "[I 2025-04-12 11:06:40,745] A new study created in memory with name: no-name-f723c89f-6e08-4138-95b6-dcb0d667d542\n",
      "[I 2025-04-12 11:08:15,486] Trial 0 finished with value: 0.0012177761062048375 and parameters: {'n_encoder_layers': 5, 'n_decoder_layers': 3, 'encoder_layer_0': 411, 'encoder_layer_1': 207, 'encoder_layer_2': 340, 'encoder_layer_3': 222, 'encoder_layer_4': 501, 'decoder_layer_0': 154, 'decoder_layer_1': 215, 'decoder_layer_2': 288, 'dropout_enc_0': False, 'dropout_enc_1': False, 'dropout_enc_2': False, 'dropout_enc_3': False, 'dropout_enc_4': True, 'dropout_dec_0': False, 'dropout_dec_1': False, 'dropout_dec_2': True, 'latent_dim': 109}. Best is trial 0 with value: 0.0012177761062048375.\n"
     ]
    },
    {
     "name": "stdout",
     "output_type": "stream",
     "text": [
      "Early stopping triggered after 86 epochs.\n"
     ]
    },
    {
     "name": "stderr",
     "output_type": "stream",
     "text": [
      "[I 2025-04-12 11:08:44,844] Trial 1 finished with value: 0.0022691140620736405 and parameters: {'n_encoder_layers': 4, 'n_decoder_layers': 4, 'encoder_layer_0': 134, 'encoder_layer_1': 213, 'encoder_layer_2': 365, 'encoder_layer_3': 341, 'decoder_layer_0': 501, 'decoder_layer_1': 567, 'decoder_layer_2': 406, 'decoder_layer_3': 646, 'dropout_enc_0': True, 'dropout_enc_1': False, 'dropout_enc_2': False, 'dropout_enc_3': True, 'dropout_dec_0': False, 'dropout_dec_1': True, 'dropout_dec_2': False, 'dropout_dec_3': False, 'latent_dim': 39}. Best is trial 0 with value: 0.0012177761062048375.\n"
     ]
    },
    {
     "name": "stdout",
     "output_type": "stream",
     "text": [
      "Early stopping triggered after 26 epochs.\n"
     ]
    },
    {
     "name": "stderr",
     "output_type": "stream",
     "text": [
      "[I 2025-04-12 11:09:04,563] Trial 2 finished with value: 0.00228436658217106 and parameters: {'n_encoder_layers': 5, 'n_decoder_layers': 6, 'encoder_layer_0': 380, 'encoder_layer_1': 442, 'encoder_layer_2': 420, 'encoder_layer_3': 436, 'encoder_layer_4': 172, 'decoder_layer_0': 988, 'decoder_layer_1': 959, 'decoder_layer_2': 172, 'decoder_layer_3': 844, 'decoder_layer_4': 524, 'decoder_layer_5': 856, 'dropout_enc_0': True, 'dropout_enc_1': False, 'dropout_enc_2': True, 'dropout_enc_3': True, 'dropout_enc_4': False, 'dropout_dec_0': True, 'dropout_dec_1': True, 'dropout_dec_2': False, 'dropout_dec_3': True, 'dropout_dec_4': False, 'dropout_dec_5': True, 'latent_dim': 25}. Best is trial 0 with value: 0.0012177761062048375.\n"
     ]
    },
    {
     "name": "stdout",
     "output_type": "stream",
     "text": [
      "Early stopping triggered after 12 epochs.\n"
     ]
    },
    {
     "name": "stderr",
     "output_type": "stream",
     "text": [
      "[I 2025-04-12 11:10:56,152] Trial 3 finished with value: 0.0012784105230821297 and parameters: {'n_encoder_layers': 2, 'n_decoder_layers': 5, 'encoder_layer_0': 299, 'encoder_layer_1': 497, 'decoder_layer_0': 163, 'decoder_layer_1': 437, 'decoder_layer_2': 656, 'decoder_layer_3': 576, 'decoder_layer_4': 737, 'dropout_enc_0': True, 'dropout_enc_1': False, 'dropout_dec_0': False, 'dropout_dec_1': False, 'dropout_dec_2': True, 'dropout_dec_3': True, 'dropout_dec_4': True, 'latent_dim': 31}. Best is trial 0 with value: 0.0012177761062048375.\n"
     ]
    },
    {
     "name": "stdout",
     "output_type": "stream",
     "text": [
      "Early stopping triggered after 92 epochs.\n"
     ]
    },
    {
     "name": "stderr",
     "output_type": "stream",
     "text": [
      "[I 2025-04-12 11:11:25,410] Trial 4 finished with value: 0.0022875969705637546 and parameters: {'n_encoder_layers': 3, 'n_decoder_layers': 5, 'encoder_layer_0': 308, 'encoder_layer_1': 362, 'encoder_layer_2': 312, 'decoder_layer_0': 200, 'decoder_layer_1': 270, 'decoder_layer_2': 669, 'decoder_layer_3': 325, 'decoder_layer_4': 742, 'dropout_enc_0': True, 'dropout_enc_1': True, 'dropout_enc_2': False, 'dropout_dec_0': True, 'dropout_dec_1': True, 'dropout_dec_2': False, 'dropout_dec_3': True, 'dropout_dec_4': True, 'latent_dim': 64}. Best is trial 0 with value: 0.0012177761062048375.\n"
     ]
    },
    {
     "name": "stdout",
     "output_type": "stream",
     "text": [
      "Early stopping triggered after 23 epochs.\n"
     ]
    },
    {
     "name": "stderr",
     "output_type": "stream",
     "text": [
      "[I 2025-04-12 11:12:23,934] Trial 5 finished with value: 0.0012912511068861932 and parameters: {'n_encoder_layers': 3, 'n_decoder_layers': 2, 'encoder_layer_0': 192, 'encoder_layer_1': 173, 'encoder_layer_2': 130, 'decoder_layer_0': 165, 'decoder_layer_1': 409, 'dropout_enc_0': True, 'dropout_enc_1': False, 'dropout_enc_2': True, 'dropout_dec_0': False, 'dropout_dec_1': False, 'latent_dim': 121}. Best is trial 0 with value: 0.0012177761062048375.\n"
     ]
    },
    {
     "name": "stdout",
     "output_type": "stream",
     "text": [
      "Early stopping triggered after 70 epochs.\n"
     ]
    },
    {
     "name": "stderr",
     "output_type": "stream",
     "text": [
      "[I 2025-04-12 11:12:40,164] Trial 6 finished with value: 0.0022959778259973975 and parameters: {'n_encoder_layers': 3, 'n_decoder_layers': 6, 'encoder_layer_0': 248, 'encoder_layer_1': 468, 'encoder_layer_2': 416, 'decoder_layer_0': 411, 'decoder_layer_1': 1024, 'decoder_layer_2': 914, 'decoder_layer_3': 639, 'decoder_layer_4': 867, 'decoder_layer_5': 341, 'dropout_enc_0': True, 'dropout_enc_1': True, 'dropout_enc_2': False, 'dropout_dec_0': True, 'dropout_dec_1': False, 'dropout_dec_2': True, 'dropout_dec_3': False, 'dropout_dec_4': True, 'dropout_dec_5': False, 'latent_dim': 66}. Best is trial 0 with value: 0.0012177761062048375.\n"
     ]
    },
    {
     "name": "stdout",
     "output_type": "stream",
     "text": [
      "Early stopping triggered after 14 epochs.\n"
     ]
    },
    {
     "name": "stderr",
     "output_type": "stream",
     "text": [
      "[I 2025-04-12 11:13:42,921] Trial 7 finished with value: 0.001266447064699605 and parameters: {'n_encoder_layers': 3, 'n_decoder_layers': 1, 'encoder_layer_0': 135, 'encoder_layer_1': 380, 'encoder_layer_2': 293, 'decoder_layer_0': 189, 'dropout_enc_0': False, 'dropout_enc_1': False, 'dropout_enc_2': True, 'dropout_dec_0': True, 'latent_dim': 20}. Best is trial 0 with value: 0.0012177761062048375.\n"
     ]
    },
    {
     "name": "stdout",
     "output_type": "stream",
     "text": [
      "Early stopping triggered after 89 epochs.\n"
     ]
    },
    {
     "name": "stderr",
     "output_type": "stream",
     "text": [
      "[I 2025-04-12 11:13:57,960] Trial 8 finished with value: 0.002342382987262681 and parameters: {'n_encoder_layers': 1, 'n_decoder_layers': 6, 'encoder_layer_0': 476, 'decoder_layer_0': 239, 'decoder_layer_1': 373, 'decoder_layer_2': 909, 'decoder_layer_3': 288, 'decoder_layer_4': 466, 'decoder_layer_5': 324, 'dropout_enc_0': False, 'dropout_dec_0': True, 'dropout_dec_1': True, 'dropout_dec_2': True, 'dropout_dec_3': False, 'dropout_dec_4': True, 'dropout_dec_5': True, 'latent_dim': 115}. Best is trial 0 with value: 0.0012177761062048375.\n"
     ]
    },
    {
     "name": "stdout",
     "output_type": "stream",
     "text": [
      "Early stopping triggered after 15 epochs.\n"
     ]
    },
    {
     "name": "stderr",
     "output_type": "stream",
     "text": [
      "[I 2025-04-12 11:15:15,968] Trial 9 finished with value: 0.0012428359972545878 and parameters: {'n_encoder_layers': 3, 'n_decoder_layers': 1, 'encoder_layer_0': 308, 'encoder_layer_1': 471, 'encoder_layer_2': 264, 'decoder_layer_0': 238, 'dropout_enc_0': False, 'dropout_enc_1': False, 'dropout_enc_2': True, 'dropout_dec_0': False, 'latent_dim': 76}. Best is trial 0 with value: 0.0012177761062048375.\n"
     ]
    },
    {
     "name": "stdout",
     "output_type": "stream",
     "text": [
      "Early stopping triggered after 109 epochs.\n"
     ]
    },
    {
     "name": "stderr",
     "output_type": "stream",
     "text": [
      "[I 2025-04-12 11:15:46,002] Trial 10 finished with value: 0.0022926108998944984 and parameters: {'n_encoder_layers': 5, 'n_decoder_layers': 3, 'encoder_layer_0': 501, 'encoder_layer_1': 258, 'encoder_layer_2': 498, 'encoder_layer_3': 133, 'encoder_layer_4': 500, 'decoder_layer_0': 762, 'decoder_layer_1': 146, 'decoder_layer_2': 151, 'dropout_enc_0': False, 'dropout_enc_1': True, 'dropout_enc_2': False, 'dropout_enc_3': False, 'dropout_enc_4': True, 'dropout_dec_0': False, 'dropout_dec_1': False, 'dropout_dec_2': True, 'latent_dim': 96}. Best is trial 0 with value: 0.0012177761062048375.\n"
     ]
    },
    {
     "name": "stdout",
     "output_type": "stream",
     "text": [
      "Early stopping triggered after 30 epochs.\n"
     ]
    },
    {
     "name": "stderr",
     "output_type": "stream",
     "text": [
      "[I 2025-04-12 11:17:05,094] Trial 11 finished with value: 0.0012346045026788489 and parameters: {'n_encoder_layers': 4, 'n_decoder_layers': 1, 'encoder_layer_0': 395, 'encoder_layer_1': 277, 'encoder_layer_2': 202, 'encoder_layer_3': 181, 'decoder_layer_0': 366, 'dropout_enc_0': False, 'dropout_enc_1': False, 'dropout_enc_2': True, 'dropout_enc_3': False, 'dropout_dec_0': False, 'latent_dim': 92}. Best is trial 0 with value: 0.0012177761062048375.\n"
     ]
    },
    {
     "name": "stdout",
     "output_type": "stream",
     "text": [
      "Early stopping triggered after 89 epochs.\n"
     ]
    },
    {
     "name": "stderr",
     "output_type": "stream",
     "text": [
      "[I 2025-04-12 11:17:40,368] Trial 12 finished with value: 0.002294064030866139 and parameters: {'n_encoder_layers': 4, 'n_decoder_layers': 3, 'encoder_layer_0': 401, 'encoder_layer_1': 277, 'encoder_layer_2': 195, 'encoder_layer_3': 174, 'decoder_layer_0': 389, 'decoder_layer_1': 771, 'decoder_layer_2': 392, 'dropout_enc_0': False, 'dropout_enc_1': False, 'dropout_enc_2': True, 'dropout_enc_3': False, 'dropout_dec_0': False, 'dropout_dec_1': False, 'dropout_dec_2': True, 'latent_dim': 97}. Best is trial 0 with value: 0.0012177761062048375.\n"
     ]
    },
    {
     "name": "stdout",
     "output_type": "stream",
     "text": [
      "Early stopping triggered after 32 epochs.\n"
     ]
    },
    {
     "name": "stderr",
     "output_type": "stream",
     "text": [
      "[I 2025-04-12 11:18:42,133] Trial 13 finished with value: 0.0015868011687416583 and parameters: {'n_encoder_layers': 5, 'n_decoder_layers': 2, 'encoder_layer_0': 404, 'encoder_layer_1': 146, 'encoder_layer_2': 232, 'encoder_layer_3': 235, 'encoder_layer_4': 492, 'decoder_layer_0': 695, 'decoder_layer_1': 138, 'dropout_enc_0': False, 'dropout_enc_1': False, 'dropout_enc_2': False, 'dropout_enc_3': False, 'dropout_enc_4': True, 'dropout_dec_0': False, 'dropout_dec_1': False, 'latent_dim': 96}. Best is trial 0 with value: 0.0012177761062048375.\n"
     ]
    },
    {
     "name": "stdout",
     "output_type": "stream",
     "text": [
      "Early stopping triggered after 70 epochs.\n"
     ]
    },
    {
     "name": "stderr",
     "output_type": "stream",
     "text": [
      "[I 2025-04-12 11:19:57,890] Trial 14 finished with value: 0.001191907498287037 and parameters: {'n_encoder_layers': 4, 'n_decoder_layers': 2, 'encoder_layer_0': 445, 'encoder_layer_1': 301, 'encoder_layer_2': 166, 'encoder_layer_3': 263, 'decoder_layer_0': 362, 'decoder_layer_1': 683, 'dropout_enc_0': False, 'dropout_enc_1': False, 'dropout_enc_2': False, 'dropout_enc_3': False, 'dropout_dec_0': False, 'dropout_dec_1': False, 'latent_dim': 107}. Best is trial 14 with value: 0.001191907498287037.\n"
     ]
    },
    {
     "name": "stdout",
     "output_type": "stream",
     "text": [
      "Early stopping triggered after 76 epochs.\n"
     ]
    },
    {
     "name": "stderr",
     "output_type": "stream",
     "text": [
      "[I 2025-04-12 11:21:16,326] Trial 15 finished with value: 0.0012475151073886082 and parameters: {'n_encoder_layers': 4, 'n_decoder_layers': 2, 'encoder_layer_0': 447, 'encoder_layer_1': 210, 'encoder_layer_2': 360, 'encoder_layer_3': 295, 'decoder_layer_0': 331, 'decoder_layer_1': 713, 'dropout_enc_0': False, 'dropout_enc_1': True, 'dropout_enc_2': False, 'dropout_enc_3': False, 'dropout_dec_0': False, 'dropout_dec_1': False, 'latent_dim': 112}. Best is trial 14 with value: 0.001191907498287037.\n"
     ]
    },
    {
     "name": "stdout",
     "output_type": "stream",
     "text": [
      "Early stopping triggered after 76 epochs.\n"
     ]
    },
    {
     "name": "stderr",
     "output_type": "stream",
     "text": [
      "[I 2025-04-12 11:22:00,012] Trial 16 finished with value: 0.0022676874010358005 and parameters: {'n_encoder_layers': 5, 'n_decoder_layers': 4, 'encoder_layer_0': 447, 'encoder_layer_1': 312, 'encoder_layer_2': 143, 'encoder_layer_3': 289, 'encoder_layer_4': 335, 'decoder_layer_0': 522, 'decoder_layer_1': 634, 'decoder_layer_2': 390, 'decoder_layer_3': 1014, 'dropout_enc_0': False, 'dropout_enc_1': False, 'dropout_enc_2': False, 'dropout_enc_3': False, 'dropout_enc_4': True, 'dropout_dec_0': False, 'dropout_dec_1': False, 'dropout_dec_2': True, 'dropout_dec_3': True, 'latent_dim': 128}. Best is trial 14 with value: 0.001191907498287037.\n"
     ]
    },
    {
     "name": "stdout",
     "output_type": "stream",
     "text": [
      "Early stopping triggered after 33 epochs.\n"
     ]
    },
    {
     "name": "stderr",
     "output_type": "stream",
     "text": [
      "[I 2025-04-12 11:23:00,548] Trial 17 finished with value: 0.001205638240207918 and parameters: {'n_encoder_layers': 4, 'n_decoder_layers': 3, 'encoder_layer_0': 348, 'encoder_layer_1': 222, 'encoder_layer_2': 357, 'encoder_layer_3': 383, 'decoder_layer_0': 311, 'decoder_layer_1': 801, 'decoder_layer_2': 512, 'dropout_enc_0': False, 'dropout_enc_1': False, 'dropout_enc_2': False, 'dropout_enc_3': False, 'dropout_dec_0': False, 'dropout_dec_1': False, 'dropout_dec_2': False, 'latent_dim': 83}. Best is trial 14 with value: 0.001191907498287037.\n"
     ]
    },
    {
     "name": "stdout",
     "output_type": "stream",
     "text": [
      "Early stopping triggered after 60 epochs.\n"
     ]
    },
    {
     "name": "stderr",
     "output_type": "stream",
     "text": [
      "[I 2025-04-12 11:24:42,191] Trial 18 finished with value: 0.001193292171228677 and parameters: {'n_encoder_layers': 2, 'n_decoder_layers': 2, 'encoder_layer_0': 344, 'encoder_layer_1': 346, 'decoder_layer_0': 644, 'decoder_layer_1': 835, 'dropout_enc_0': False, 'dropout_enc_1': False, 'dropout_dec_0': False, 'dropout_dec_1': False, 'latent_dim': 80}. Best is trial 14 with value: 0.001191907498287037.\n"
     ]
    },
    {
     "name": "stdout",
     "output_type": "stream",
     "text": [
      "Early stopping triggered after 112 epochs.\n"
     ]
    },
    {
     "name": "stderr",
     "output_type": "stream",
     "text": [
      "[I 2025-04-12 11:25:52,374] Trial 19 finished with value: 0.0012665453687077388 and parameters: {'n_encoder_layers': 1, 'n_decoder_layers': 2, 'encoder_layer_0': 237, 'decoder_layer_0': 692, 'decoder_layer_1': 881, 'dropout_enc_0': False, 'dropout_dec_0': False, 'dropout_dec_1': False, 'latent_dim': 51}. Best is trial 14 with value: 0.001191907498287037.\n"
     ]
    },
    {
     "name": "stdout",
     "output_type": "stream",
     "text": [
      "Early stopping triggered after 78 epochs.\n"
     ]
    },
    {
     "name": "stderr",
     "output_type": "stream",
     "text": [
      "[I 2025-04-12 11:27:01,625] Trial 20 finished with value: 0.001275919677573256 and parameters: {'n_encoder_layers': 2, 'n_decoder_layers': 2, 'encoder_layer_0': 352, 'encoder_layer_1': 368, 'decoder_layer_0': 940, 'decoder_layer_1': 574, 'dropout_enc_0': False, 'dropout_enc_1': True, 'dropout_dec_0': False, 'dropout_dec_1': False, 'latent_dim': 83}. Best is trial 14 with value: 0.001191907498287037.\n"
     ]
    },
    {
     "name": "stdout",
     "output_type": "stream",
     "text": [
      "Early stopping triggered after 80 epochs.\n"
     ]
    },
    {
     "name": "stderr",
     "output_type": "stream",
     "text": [
      "[I 2025-04-12 11:27:52,893] Trial 21 finished with value: 0.0012661830725846813 and parameters: {'n_encoder_layers': 2, 'n_decoder_layers': 3, 'encoder_layer_0': 346, 'encoder_layer_1': 319, 'decoder_layer_0': 603, 'decoder_layer_1': 822, 'decoder_layer_2': 575, 'dropout_enc_0': False, 'dropout_enc_1': False, 'dropout_dec_0': False, 'dropout_dec_1': False, 'dropout_dec_2': False, 'latent_dim': 82}. Best is trial 14 with value: 0.001191907498287037.\n"
     ]
    },
    {
     "name": "stdout",
     "output_type": "stream",
     "text": [
      "Early stopping triggered after 53 epochs.\n"
     ]
    },
    {
     "name": "stderr",
     "output_type": "stream",
     "text": [
      "[I 2025-04-12 11:28:26,120] Trial 22 finished with value: 0.0023228102829307316 and parameters: {'n_encoder_layers': 4, 'n_decoder_layers': 4, 'encoder_layer_0': 261, 'encoder_layer_1': 403, 'encoder_layer_2': 420, 'encoder_layer_3': 408, 'decoder_layer_0': 294, 'decoder_layer_1': 691, 'decoder_layer_2': 778, 'decoder_layer_3': 131, 'dropout_enc_0': False, 'dropout_enc_1': False, 'dropout_enc_2': False, 'dropout_enc_3': True, 'dropout_dec_0': False, 'dropout_dec_1': False, 'dropout_dec_2': False, 'dropout_dec_3': False, 'latent_dim': 56}. Best is trial 14 with value: 0.001191907498287037.\n"
     ]
    },
    {
     "name": "stdout",
     "output_type": "stream",
     "text": [
      "Early stopping triggered after 32 epochs.\n"
     ]
    },
    {
     "name": "stderr",
     "output_type": "stream",
     "text": [
      "[I 2025-04-12 11:30:01,171] Trial 23 finished with value: 0.0012264783785212786 and parameters: {'n_encoder_layers': 2, 'n_decoder_layers': 2, 'encoder_layer_0': 351, 'encoder_layer_1': 241, 'decoder_layer_0': 508, 'decoder_layer_1': 874, 'dropout_enc_0': False, 'dropout_enc_1': False, 'dropout_dec_0': False, 'dropout_dec_1': False, 'latent_dim': 106}. Best is trial 14 with value: 0.001191907498287037.\n"
     ]
    },
    {
     "name": "stdout",
     "output_type": "stream",
     "text": [
      "Early stopping triggered after 100 epochs.\n"
     ]
    },
    {
     "name": "stderr",
     "output_type": "stream",
     "text": [
      "[I 2025-04-12 11:30:51,402] Trial 24 finished with value: 0.0012028126657241955 and parameters: {'n_encoder_layers': 4, 'n_decoder_layers': 3, 'encoder_layer_0': 441, 'encoder_layer_1': 306, 'encoder_layer_2': 483, 'encoder_layer_3': 500, 'decoder_layer_0': 813, 'decoder_layer_1': 773, 'decoder_layer_2': 525, 'dropout_enc_0': False, 'dropout_enc_1': False, 'dropout_enc_2': False, 'dropout_enc_3': False, 'dropout_dec_0': False, 'dropout_dec_1': False, 'dropout_dec_2': False, 'latent_dim': 85}. Best is trial 14 with value: 0.001191907498287037.\n"
     ]
    },
    {
     "name": "stdout",
     "output_type": "stream",
     "text": [
      "Early stopping triggered after 47 epochs.\n"
     ]
    },
    {
     "name": "stderr",
     "output_type": "stream",
     "text": [
      "[I 2025-04-12 11:31:54,134] Trial 25 finished with value: 0.0013847035501385109 and parameters: {'n_encoder_layers': 1, 'n_decoder_layers': 1, 'encoder_layer_0': 436, 'decoder_layer_0': 835, 'dropout_enc_0': False, 'dropout_dec_0': False, 'latent_dim': 72}. Best is trial 14 with value: 0.001191907498287037.\n"
     ]
    },
    {
     "name": "stdout",
     "output_type": "stream",
     "text": [
      "Early stopping triggered after 78 epochs.\n"
     ]
    },
    {
     "name": "stderr",
     "output_type": "stream",
     "text": [
      "[I 2025-04-12 11:32:41,355] Trial 26 finished with value: 0.001329649702529423 and parameters: {'n_encoder_layers': 2, 'n_decoder_layers': 2, 'encoder_layer_0': 500, 'encoder_layer_1': 321, 'decoder_layer_0': 859, 'decoder_layer_1': 516, 'dropout_enc_0': False, 'dropout_enc_1': False, 'dropout_dec_0': True, 'dropout_dec_1': True, 'latent_dim': 88}. Best is trial 14 with value: 0.001191907498287037.\n"
     ]
    },
    {
     "name": "stdout",
     "output_type": "stream",
     "text": [
      "Early stopping triggered after 56 epochs.\n"
     ]
    },
    {
     "name": "stderr",
     "output_type": "stream",
     "text": [
      "[I 2025-04-12 11:33:31,011] Trial 27 finished with value: 0.001213463518070057 and parameters: {'n_encoder_layers': 4, 'n_decoder_layers': 3, 'encoder_layer_0': 481, 'encoder_layer_1': 338, 'encoder_layer_2': 493, 'encoder_layer_3': 497, 'decoder_layer_0': 618, 'decoder_layer_1': 699, 'decoder_layer_2': 775, 'dropout_enc_0': False, 'dropout_enc_1': False, 'dropout_enc_2': False, 'dropout_enc_3': False, 'dropout_dec_0': False, 'dropout_dec_1': False, 'dropout_dec_2': False, 'latent_dim': 103}. Best is trial 14 with value: 0.001191907498287037.\n"
     ]
    },
    {
     "name": "stdout",
     "output_type": "stream",
     "text": [
      "Early stopping triggered after 40 epochs.\n"
     ]
    },
    {
     "name": "stderr",
     "output_type": "stream",
     "text": [
      "[I 2025-04-12 11:35:15,708] Trial 28 finished with value: 0.0012221875076647848 and parameters: {'n_encoder_layers': 3, 'n_decoder_layers': 1, 'encoder_layer_0': 430, 'encoder_layer_1': 412, 'encoder_layer_2': 471, 'decoder_layer_0': 678, 'dropout_enc_0': False, 'dropout_enc_1': False, 'dropout_enc_2': False, 'dropout_dec_0': False, 'latent_dim': 57}. Best is trial 14 with value: 0.001191907498287037.\n"
     ]
    },
    {
     "name": "stdout",
     "output_type": "stream",
     "text": [
      "Early stopping triggered after 111 epochs.\n"
     ]
    },
    {
     "name": "stderr",
     "output_type": "stream",
     "text": [
      "[I 2025-04-12 11:36:45,158] Trial 29 finished with value: 0.0012236356211360543 and parameters: {'n_encoder_layers': 4, 'n_decoder_layers': 3, 'encoder_layer_0': 377, 'encoder_layer_1': 278, 'encoder_layer_2': 168, 'encoder_layer_3': 500, 'decoder_layer_0': 791, 'decoder_layer_1': 928, 'decoder_layer_2': 1006, 'dropout_enc_0': False, 'dropout_enc_1': True, 'dropout_enc_2': False, 'dropout_enc_3': True, 'dropout_dec_0': False, 'dropout_dec_1': False, 'dropout_dec_2': False, 'latent_dim': 105}. Best is trial 14 with value: 0.001191907498287037.\n"
     ]
    },
    {
     "name": "stdout",
     "output_type": "stream",
     "text": [
      "Early stopping triggered after 72 epochs.\n"
     ]
    },
    {
     "name": "stderr",
     "output_type": "stream",
     "text": [
      "[I 2025-04-12 11:37:14,488] Trial 30 finished with value: 0.0023836845037294553 and parameters: {'n_encoder_layers': 3, 'n_decoder_layers': 4, 'encoder_layer_0': 278, 'encoder_layer_1': 342, 'encoder_layer_2': 266, 'decoder_layer_0': 449, 'decoder_layer_1': 640, 'decoder_layer_2': 487, 'decoder_layer_3': 440, 'dropout_enc_0': False, 'dropout_enc_1': False, 'dropout_enc_2': False, 'dropout_dec_0': False, 'dropout_dec_1': False, 'dropout_dec_2': False, 'dropout_dec_3': True, 'latent_dim': 77}. Best is trial 14 with value: 0.001191907498287037.\n"
     ]
    },
    {
     "name": "stdout",
     "output_type": "stream",
     "text": [
      "Early stopping triggered after 25 epochs.\n"
     ]
    },
    {
     "name": "stderr",
     "output_type": "stream",
     "text": [
      "[I 2025-04-12 11:38:17,201] Trial 31 finished with value: 0.0011960248317336663 and parameters: {'n_encoder_layers': 4, 'n_decoder_layers': 3, 'encoder_layer_0': 338, 'encoder_layer_1': 307, 'encoder_layer_2': 448, 'encoder_layer_3': 362, 'decoder_layer_0': 309, 'decoder_layer_1': 799, 'decoder_layer_2': 524, 'dropout_enc_0': False, 'dropout_enc_1': False, 'dropout_enc_2': False, 'dropout_enc_3': False, 'dropout_dec_0': False, 'dropout_dec_1': False, 'dropout_dec_2': False, 'latent_dim': 87}. Best is trial 14 with value: 0.001191907498287037.\n"
     ]
    },
    {
     "name": "stdout",
     "output_type": "stream",
     "text": [
      "Early stopping triggered after 57 epochs.\n"
     ]
    },
    {
     "name": "stderr",
     "output_type": "stream",
     "text": [
      "[I 2025-04-12 11:39:28,781] Trial 32 finished with value: 0.0011893893039086833 and parameters: {'n_encoder_layers': 4, 'n_decoder_layers': 3, 'encoder_layer_0': 460, 'encoder_layer_1': 301, 'encoder_layer_2': 445, 'encoder_layer_3': 335, 'decoder_layer_0': 456, 'decoder_layer_1': 763, 'decoder_layer_2': 293, 'dropout_enc_0': False, 'dropout_enc_1': False, 'dropout_enc_2': False, 'dropout_enc_3': False, 'dropout_dec_0': False, 'dropout_dec_1': False, 'dropout_dec_2': False, 'latent_dim': 85}. Best is trial 32 with value: 0.0011893893039086833.\n"
     ]
    },
    {
     "name": "stdout",
     "output_type": "stream",
     "text": [
      "Early stopping triggered after 72 epochs.\n"
     ]
    },
    {
     "name": "stderr",
     "output_type": "stream",
     "text": [
      "[I 2025-04-12 11:41:33,129] Trial 33 finished with value: 0.001181191988871433 and parameters: {'n_encoder_layers': 5, 'n_decoder_layers': 2, 'encoder_layer_0': 374, 'encoder_layer_1': 289, 'encoder_layer_2': 457, 'encoder_layer_3': 337, 'encoder_layer_4': 150, 'decoder_layer_0': 452, 'decoder_layer_1': 843, 'dropout_enc_0': False, 'dropout_enc_1': False, 'dropout_enc_2': False, 'dropout_enc_3': False, 'dropout_enc_4': False, 'dropout_dec_0': False, 'dropout_dec_1': False, 'latent_dim': 70}. Best is trial 33 with value: 0.001181191988871433.\n"
     ]
    },
    {
     "name": "stdout",
     "output_type": "stream",
     "text": [
      "Early stopping triggered after 113 epochs.\n"
     ]
    },
    {
     "name": "stderr",
     "output_type": "stream",
     "text": [
      "[I 2025-04-12 11:43:27,001] Trial 34 finished with value: 0.0012002862436929717 and parameters: {'n_encoder_layers': 5, 'n_decoder_layers': 2, 'encoder_layer_0': 375, 'encoder_layer_1': 250, 'encoder_layer_2': 390, 'encoder_layer_3': 270, 'encoder_layer_4': 150, 'decoder_layer_0': 470, 'decoder_layer_1': 867, 'dropout_enc_0': True, 'dropout_enc_1': False, 'dropout_enc_2': False, 'dropout_enc_3': False, 'dropout_enc_4': False, 'dropout_dec_0': False, 'dropout_dec_1': False, 'latent_dim': 47}. Best is trial 33 with value: 0.001181191988871433.\n"
     ]
    },
    {
     "name": "stdout",
     "output_type": "stream",
     "text": [
      "Early stopping triggered after 98 epochs.\n"
     ]
    },
    {
     "name": "stderr",
     "output_type": "stream",
     "text": [
      "[I 2025-04-12 11:44:44,986] Trial 35 finished with value: 0.0012293593812501059 and parameters: {'n_encoder_layers': 5, 'n_decoder_layers': 2, 'encoder_layer_0': 463, 'encoder_layer_1': 288, 'encoder_layer_2': 442, 'encoder_layer_3': 337, 'encoder_layer_4': 260, 'decoder_layer_0': 556, 'decoder_layer_1': 738, 'dropout_enc_0': True, 'dropout_enc_1': False, 'dropout_enc_2': False, 'dropout_enc_3': False, 'dropout_enc_4': False, 'dropout_dec_0': False, 'dropout_dec_1': False, 'latent_dim': 68}. Best is trial 33 with value: 0.001181191988871433.\n"
     ]
    },
    {
     "name": "stdout",
     "output_type": "stream",
     "text": [
      "Early stopping triggered after 69 epochs.\n"
     ]
    },
    {
     "name": "stderr",
     "output_type": "stream",
     "text": [
      "[I 2025-04-12 11:45:03,592] Trial 36 finished with value: 0.002300331636797637 and parameters: {'n_encoder_layers': 5, 'n_decoder_layers': 5, 'encoder_layer_0': 415, 'encoder_layer_1': 336, 'encoder_layer_2': 392, 'encoder_layer_3': 250, 'encoder_layer_4': 314, 'decoder_layer_0': 433, 'decoder_layer_1': 649, 'decoder_layer_2': 244, 'decoder_layer_3': 842, 'decoder_layer_4': 312, 'dropout_enc_0': False, 'dropout_enc_1': False, 'dropout_enc_2': False, 'dropout_enc_3': False, 'dropout_enc_4': False, 'dropout_dec_0': True, 'dropout_dec_1': False, 'dropout_dec_2': False, 'dropout_dec_3': False, 'dropout_dec_4': False, 'latent_dim': 62}. Best is trial 33 with value: 0.001181191988871433.\n"
     ]
    },
    {
     "name": "stdout",
     "output_type": "stream",
     "text": [
      "Early stopping triggered after 13 epochs.\n"
     ]
    },
    {
     "name": "stderr",
     "output_type": "stream",
     "text": [
      "[I 2025-04-12 11:47:19,826] Trial 37 finished with value: 0.0012629352248040959 and parameters: {'n_encoder_layers': 5, 'n_decoder_layers': 2, 'encoder_layer_0': 323, 'encoder_layer_1': 187, 'encoder_layer_2': 441, 'encoder_layer_3': 316, 'encoder_layer_4': 228, 'decoder_layer_0': 558, 'decoder_layer_1': 940, 'dropout_enc_0': True, 'dropout_enc_1': False, 'dropout_enc_2': False, 'dropout_enc_3': False, 'dropout_enc_4': False, 'dropout_dec_0': False, 'dropout_dec_1': True, 'latent_dim': 37}. Best is trial 33 with value: 0.001181191988871433.\n"
     ]
    },
    {
     "name": "stdout",
     "output_type": "stream",
     "text": [
      "Early stopping triggered after 116 epochs.\n"
     ]
    },
    {
     "name": "stderr",
     "output_type": "stream",
     "text": [
      "[I 2025-04-12 11:48:27,893] Trial 38 finished with value: 0.0012637442821869626 and parameters: {'n_encoder_layers': 3, 'n_decoder_layers': 1, 'encoder_layer_0': 469, 'encoder_layer_1': 402, 'encoder_layer_2': 328, 'decoder_layer_0': 476, 'dropout_enc_0': False, 'dropout_enc_1': False, 'dropout_enc_2': False, 'dropout_dec_0': True, 'latent_dim': 72}. Best is trial 33 with value: 0.001181191988871433.\n"
     ]
    },
    {
     "name": "stdout",
     "output_type": "stream",
     "text": [
      "Early stopping triggered after 76 epochs.\n"
     ]
    },
    {
     "name": "stderr",
     "output_type": "stream",
     "text": [
      "[I 2025-04-12 11:49:54,339] Trial 39 finished with value: 0.001266582720563747 and parameters: {'n_encoder_layers': 5, 'n_decoder_layers': 4, 'encoder_layer_0': 377, 'encoder_layer_1': 364, 'encoder_layer_2': 504, 'encoder_layer_3': 403, 'encoder_layer_4': 390, 'decoder_layer_0': 653, 'decoder_layer_1': 998, 'decoder_layer_2': 283, 'decoder_layer_3': 132, 'dropout_enc_0': True, 'dropout_enc_1': False, 'dropout_enc_2': False, 'dropout_enc_3': True, 'dropout_enc_4': False, 'dropout_dec_0': False, 'dropout_dec_1': False, 'dropout_dec_2': False, 'dropout_dec_3': True, 'latent_dim': 122}. Best is trial 33 with value: 0.001181191988871433.\n"
     ]
    },
    {
     "name": "stdout",
     "output_type": "stream",
     "text": [
      "Early stopping triggered after 79 epochs.\n"
     ]
    },
    {
     "name": "stderr",
     "output_type": "stream",
     "text": [
      "[I 2025-04-12 11:51:38,291] Trial 40 finished with value: 0.0012604572024429218 and parameters: {'n_encoder_layers': 2, 'n_decoder_layers': 2, 'encoder_layer_0': 211, 'encoder_layer_1': 293, 'decoder_layer_0': 376, 'decoder_layer_1': 852, 'dropout_enc_0': False, 'dropout_enc_1': True, 'dropout_dec_0': True, 'dropout_dec_1': True, 'latent_dim': 78}. Best is trial 33 with value: 0.001181191988871433.\n"
     ]
    },
    {
     "name": "stdout",
     "output_type": "stream",
     "text": [
      "Early stopping triggered after 92 epochs.\n"
     ]
    },
    {
     "name": "stderr",
     "output_type": "stream",
     "text": [
      "[I 2025-04-12 11:52:37,984] Trial 41 finished with value: 0.0012611394864507019 and parameters: {'n_encoder_layers': 4, 'n_decoder_layers': 3, 'encoder_layer_0': 327, 'encoder_layer_1': 338, 'encoder_layer_2': 459, 'encoder_layer_3': 366, 'decoder_layer_0': 246, 'decoder_layer_1': 760, 'decoder_layer_2': 350, 'dropout_enc_0': False, 'dropout_enc_1': False, 'dropout_enc_2': False, 'dropout_enc_3': False, 'dropout_dec_0': False, 'dropout_dec_1': False, 'dropout_dec_2': False, 'latent_dim': 91}. Best is trial 33 with value: 0.001181191988871433.\n"
     ]
    },
    {
     "name": "stdout",
     "output_type": "stream",
     "text": [
      "Early stopping triggered after 53 epochs.\n"
     ]
    },
    {
     "name": "stderr",
     "output_type": "stream",
     "text": [
      "[I 2025-04-12 11:53:38,513] Trial 42 finished with value: 0.0011943029647227376 and parameters: {'n_encoder_layers': 4, 'n_decoder_layers': 3, 'encoder_layer_0': 286, 'encoder_layer_1': 256, 'encoder_layer_2': 387, 'encoder_layer_3': 355, 'decoder_layer_0': 273, 'decoder_layer_1': 808, 'decoder_layer_2': 460, 'dropout_enc_0': False, 'dropout_enc_1': False, 'dropout_enc_2': False, 'dropout_enc_3': False, 'dropout_dec_0': False, 'dropout_dec_1': False, 'dropout_dec_2': False, 'latent_dim': 100}. Best is trial 33 with value: 0.001181191988871433.\n"
     ]
    },
    {
     "name": "stdout",
     "output_type": "stream",
     "text": [
      "Early stopping triggered after 52 epochs.\n"
     ]
    },
    {
     "name": "stderr",
     "output_type": "stream",
     "text": [
      "[I 2025-04-12 11:54:46,982] Trial 43 finished with value: 0.001205868084798567 and parameters: {'n_encoder_layers': 3, 'n_decoder_layers': 4, 'encoder_layer_0': 294, 'encoder_layer_1': 234, 'encoder_layer_2': 388, 'decoder_layer_0': 414, 'decoder_layer_1': 919, 'decoder_layer_2': 221, 'decoder_layer_3': 982, 'dropout_enc_0': False, 'dropout_enc_1': False, 'dropout_enc_2': False, 'dropout_dec_0': False, 'dropout_dec_1': False, 'dropout_dec_2': False, 'dropout_dec_3': False, 'latent_dim': 100}. Best is trial 33 with value: 0.001181191988871433.\n"
     ]
    },
    {
     "name": "stdout",
     "output_type": "stream",
     "text": [
      "Early stopping triggered after 52 epochs.\n"
     ]
    },
    {
     "name": "stderr",
     "output_type": "stream",
     "text": [
      "[I 2025-04-12 11:55:09,352] Trial 44 finished with value: 0.0022644745418801903 and parameters: {'n_encoder_layers': 4, 'n_decoder_layers': 5, 'encoder_layer_0': 293, 'encoder_layer_1': 260, 'encoder_layer_2': 411, 'encoder_layer_3': 310, 'decoder_layer_0': 256, 'decoder_layer_1': 824, 'decoder_layer_2': 466, 'decoder_layer_3': 786, 'decoder_layer_4': 235, 'dropout_enc_0': False, 'dropout_enc_1': False, 'dropout_enc_2': False, 'dropout_enc_3': False, 'dropout_dec_0': False, 'dropout_dec_1': False, 'dropout_dec_2': False, 'dropout_dec_3': False, 'dropout_dec_4': False, 'latent_dim': 110}. Best is trial 33 with value: 0.001181191988871433.\n"
     ]
    },
    {
     "name": "stdout",
     "output_type": "stream",
     "text": [
      "Early stopping triggered after 16 epochs.\n"
     ]
    },
    {
     "name": "stderr",
     "output_type": "stream",
     "text": [
      "[I 2025-04-12 11:56:13,439] Trial 45 finished with value: 0.001185996874119155 and parameters: {'n_encoder_layers': 3, 'n_decoder_layers': 2, 'encoder_layer_0': 512, 'encoder_layer_1': 387, 'encoder_layer_2': 347, 'decoder_layer_0': 344, 'decoder_layer_1': 672, 'dropout_enc_0': False, 'dropout_enc_1': False, 'dropout_enc_2': False, 'dropout_dec_0': False, 'dropout_dec_1': False, 'latent_dim': 118}. Best is trial 33 with value: 0.001181191988871433.\n"
     ]
    },
    {
     "name": "stdout",
     "output_type": "stream",
     "text": [
      "Early stopping triggered after 65 epochs.\n"
     ]
    },
    {
     "name": "stderr",
     "output_type": "stream",
     "text": [
      "[I 2025-04-12 11:57:54,457] Trial 46 finished with value: 0.0012275340326596052 and parameters: {'n_encoder_layers': 3, 'n_decoder_layers': 1, 'encoder_layer_0': 494, 'encoder_layer_1': 426, 'encoder_layer_2': 301, 'decoder_layer_0': 336, 'dropout_enc_0': False, 'dropout_enc_1': False, 'dropout_enc_2': True, 'dropout_dec_0': False, 'latent_dim': 119}. Best is trial 33 with value: 0.001181191988871433.\n"
     ]
    },
    {
     "name": "stdout",
     "output_type": "stream",
     "text": [
      "Early stopping triggered after 118 epochs.\n"
     ]
    },
    {
     "name": "stderr",
     "output_type": "stream",
     "text": [
      "[I 2025-04-12 11:59:19,206] Trial 47 finished with value: 0.0014005899836774915 and parameters: {'n_encoder_layers': 2, 'n_decoder_layers': 2, 'encoder_layer_0': 510, 'encoder_layer_1': 388, 'decoder_layer_0': 136, 'decoder_layer_1': 510, 'dropout_enc_0': True, 'dropout_enc_1': False, 'dropout_dec_0': False, 'dropout_dec_1': True, 'latent_dim': 114}. Best is trial 33 with value: 0.001181191988871433.\n"
     ]
    },
    {
     "name": "stdout",
     "output_type": "stream",
     "text": [
      "Early stopping triggered after 88 epochs.\n"
     ]
    },
    {
     "name": "stderr",
     "output_type": "stream",
     "text": [
      "[I 2025-04-12 12:00:31,161] Trial 48 finished with value: 0.0012739649740979076 and parameters: {'n_encoder_layers': 3, 'n_decoder_layers': 1, 'encoder_layer_0': 489, 'encoder_layer_1': 352, 'encoder_layer_2': 334, 'decoder_layer_0': 361, 'dropout_enc_0': False, 'dropout_enc_1': False, 'dropout_enc_2': False, 'dropout_dec_0': False, 'latent_dim': 128}. Best is trial 33 with value: 0.001181191988871433.\n"
     ]
    },
    {
     "name": "stdout",
     "output_type": "stream",
     "text": [
      "Early stopping triggered after 81 epochs.\n"
     ]
    },
    {
     "name": "stderr",
     "output_type": "stream",
     "text": [
      "[I 2025-04-12 12:01:20,179] Trial 49 finished with value: 0.0015374113892903552 and parameters: {'n_encoder_layers': 1, 'n_decoder_layers': 2, 'encoder_layer_0': 418, 'decoder_layer_0': 190, 'decoder_layer_1': 643, 'dropout_enc_0': False, 'dropout_dec_0': True, 'dropout_dec_1': False, 'latent_dim': 120}. Best is trial 33 with value: 0.001181191988871433.\n"
     ]
    },
    {
     "name": "stdout",
     "output_type": "stream",
     "text": [
      "Early stopping triggered after 51 epochs.\n"
     ]
    },
    {
     "name": "stderr",
     "output_type": "stream",
     "text": [
      "[I 2025-04-12 12:02:34,536] Trial 50 finished with value: 0.0012327152508078143 and parameters: {'n_encoder_layers': 3, 'n_decoder_layers': 2, 'encoder_layer_0': 466, 'encoder_layer_1': 461, 'encoder_layer_2': 238, 'decoder_layer_0': 530, 'decoder_layer_1': 521, 'dropout_enc_0': False, 'dropout_enc_1': True, 'dropout_enc_2': True, 'dropout_dec_0': False, 'dropout_dec_1': False, 'latent_dim': 92}. Best is trial 33 with value: 0.001181191988871433.\n"
     ]
    },
    {
     "name": "stdout",
     "output_type": "stream",
     "text": [
      "Early stopping triggered after 72 epochs.\n"
     ]
    },
    {
     "name": "stderr",
     "output_type": "stream",
     "text": [
      "[I 2025-04-12 12:03:26,044] Trial 51 finished with value: 0.0012106112641049548 and parameters: {'n_encoder_layers': 4, 'n_decoder_layers': 3, 'encoder_layer_0': 457, 'encoder_layer_1': 294, 'encoder_layer_2': 369, 'encoder_layer_3': 443, 'decoder_layer_0': 281, 'decoder_layer_1': 729, 'decoder_layer_2': 647, 'dropout_enc_0': False, 'dropout_enc_1': False, 'dropout_enc_2': False, 'dropout_enc_3': False, 'dropout_dec_0': False, 'dropout_dec_1': False, 'dropout_dec_2': False, 'latent_dim': 98}. Best is trial 33 with value: 0.001181191988871433.\n"
     ]
    },
    {
     "name": "stdout",
     "output_type": "stream",
     "text": [
      "Early stopping triggered after 40 epochs.\n"
     ]
    },
    {
     "name": "stderr",
     "output_type": "stream",
     "text": [
      "[I 2025-04-12 12:04:12,973] Trial 52 finished with value: 0.0012037469947244971 and parameters: {'n_encoder_layers': 4, 'n_decoder_layers': 3, 'encoder_layer_0': 164, 'encoder_layer_1': 325, 'encoder_layer_2': 405, 'encoder_layer_3': 337, 'decoder_layer_0': 388, 'decoder_layer_1': 689, 'decoder_layer_2': 302, 'dropout_enc_0': False, 'dropout_enc_1': False, 'dropout_enc_2': False, 'dropout_enc_3': False, 'dropout_dec_0': False, 'dropout_dec_1': False, 'dropout_dec_2': False, 'latent_dim': 109}. Best is trial 33 with value: 0.001181191988871433.\n"
     ]
    },
    {
     "name": "stdout",
     "output_type": "stream",
     "text": [
      "Early stopping triggered after 41 epochs.\n"
     ]
    },
    {
     "name": "stderr",
     "output_type": "stream",
     "text": [
      "[I 2025-04-12 12:05:12,683] Trial 53 finished with value: 0.0013107125443639234 and parameters: {'n_encoder_layers': 5, 'n_decoder_layers': 3, 'encoder_layer_0': 363, 'encoder_layer_1': 269, 'encoder_layer_2': 428, 'encoder_layer_3': 273, 'encoder_layer_4': 132, 'decoder_layer_0': 211, 'decoder_layer_1': 599, 'decoder_layer_2': 430, 'dropout_enc_0': False, 'dropout_enc_1': False, 'dropout_enc_2': False, 'dropout_enc_3': False, 'dropout_enc_4': False, 'dropout_dec_0': False, 'dropout_dec_1': False, 'dropout_dec_2': False, 'latent_dim': 79}. Best is trial 33 with value: 0.001181191988871433.\n"
     ]
    },
    {
     "name": "stdout",
     "output_type": "stream",
     "text": [
      "Early stopping triggered after 49 epochs.\n"
     ]
    },
    {
     "name": "stderr",
     "output_type": "stream",
     "text": [
      "[I 2025-04-12 12:06:49,041] Trial 54 finished with value: 0.0011842949665151537 and parameters: {'n_encoder_layers': 4, 'n_decoder_layers': 2, 'encoder_layer_0': 389, 'encoder_layer_1': 379, 'encoder_layer_2': 372, 'encoder_layer_3': 346, 'decoder_layer_0': 339, 'decoder_layer_1': 764, 'dropout_enc_0': False, 'dropout_enc_1': False, 'dropout_enc_2': False, 'dropout_enc_3': False, 'dropout_dec_0': False, 'dropout_dec_1': False, 'latent_dim': 102}. Best is trial 33 with value: 0.001181191988871433.\n"
     ]
    },
    {
     "name": "stdout",
     "output_type": "stream",
     "text": [
      "Early stopping triggered after 82 epochs.\n"
     ]
    },
    {
     "name": "stderr",
     "output_type": "stream",
     "text": [
      "[I 2025-04-12 12:08:03,258] Trial 55 finished with value: 0.001193091756431386 and parameters: {'n_encoder_layers': 3, 'n_decoder_layers': 2, 'encoder_layer_0': 394, 'encoder_layer_1': 376, 'encoder_layer_2': 277, 'decoder_layer_0': 345, 'decoder_layer_1': 675, 'dropout_enc_0': False, 'dropout_enc_1': False, 'dropout_enc_2': False, 'dropout_dec_0': False, 'dropout_dec_1': False, 'latent_dim': 67}. Best is trial 33 with value: 0.001181191988871433.\n"
     ]
    },
    {
     "name": "stdout",
     "output_type": "stream",
     "text": [
      "Early stopping triggered after 69 epochs.\n"
     ]
    },
    {
     "name": "stderr",
     "output_type": "stream",
     "text": [
      "[I 2025-04-12 12:09:06,188] Trial 56 finished with value: 0.0012017922970699146 and parameters: {'n_encoder_layers': 3, 'n_decoder_layers': 2, 'encoder_layer_0': 394, 'encoder_layer_1': 386, 'encoder_layer_2': 276, 'decoder_layer_0': 348, 'decoder_layer_1': 664, 'dropout_enc_0': False, 'dropout_enc_1': False, 'dropout_enc_2': False, 'dropout_dec_0': False, 'dropout_dec_1': False, 'latent_dim': 58}. Best is trial 33 with value: 0.001181191988871433.\n"
     ]
    },
    {
     "name": "stdout",
     "output_type": "stream",
     "text": [
      "Early stopping triggered after 65 epochs.\n"
     ]
    },
    {
     "name": "stderr",
     "output_type": "stream",
     "text": [
      "[I 2025-04-12 12:10:17,916] Trial 57 finished with value: 0.0012077218416379765 and parameters: {'n_encoder_layers': 3, 'n_decoder_layers': 2, 'encoder_layer_0': 428, 'encoder_layer_1': 445, 'encoder_layer_2': 226, 'decoder_layer_0': 441, 'decoder_layer_1': 605, 'dropout_enc_0': False, 'dropout_enc_1': False, 'dropout_enc_2': False, 'dropout_dec_0': False, 'dropout_dec_1': False, 'latent_dim': 67}. Best is trial 33 with value: 0.001181191988871433.\n"
     ]
    },
    {
     "name": "stdout",
     "output_type": "stream",
     "text": [
      "Early stopping triggered after 76 epochs.\n"
     ]
    },
    {
     "name": "stderr",
     "output_type": "stream",
     "text": [
      "[I 2025-04-12 12:11:55,856] Trial 58 finished with value: 0.0012268490536371246 and parameters: {'n_encoder_layers': 3, 'n_decoder_layers': 1, 'encoder_layer_0': 412, 'encoder_layer_1': 499, 'encoder_layer_2': 351, 'decoder_layer_0': 413, 'dropout_enc_0': False, 'dropout_enc_1': False, 'dropout_enc_2': False, 'dropout_dec_0': False, 'latent_dim': 116}. Best is trial 33 with value: 0.001181191988871433.\n"
     ]
    },
    {
     "name": "stdout",
     "output_type": "stream",
     "text": [
      "Early stopping triggered after 116 epochs.\n"
     ]
    },
    {
     "name": "stderr",
     "output_type": "stream",
     "text": [
      "[I 2025-04-12 12:13:19,827] Trial 59 finished with value: 0.0012373123783618212 and parameters: {'n_encoder_layers': 4, 'n_decoder_layers': 2, 'encoder_layer_0': 395, 'encoder_layer_1': 374, 'encoder_layer_2': 315, 'encoder_layer_3': 317, 'decoder_layer_0': 482, 'decoder_layer_1': 745, 'dropout_enc_0': False, 'dropout_enc_1': True, 'dropout_enc_2': True, 'dropout_enc_3': False, 'dropout_dec_0': False, 'dropout_dec_1': True, 'latent_dim': 74}. Best is trial 33 with value: 0.001181191988871433.\n"
     ]
    },
    {
     "name": "stdout",
     "output_type": "stream",
     "text": [
      "Early stopping triggered after 72 epochs.\n"
     ]
    },
    {
     "name": "stderr",
     "output_type": "stream",
     "text": [
      "[I 2025-04-12 12:14:41,489] Trial 60 finished with value: 0.0012393425247864797 and parameters: {'n_encoder_layers': 4, 'n_decoder_layers': 1, 'encoder_layer_0': 481, 'encoder_layer_1': 420, 'encoder_layer_2': 295, 'encoder_layer_3': 216, 'decoder_layer_0': 325, 'dropout_enc_0': False, 'dropout_enc_1': False, 'dropout_enc_2': False, 'dropout_enc_3': False, 'dropout_dec_0': False, 'latent_dim': 94}. Best is trial 33 with value: 0.001181191988871433.\n"
     ]
    },
    {
     "name": "stdout",
     "output_type": "stream",
     "text": [
      "Early stopping triggered after 90 epochs.\n"
     ]
    },
    {
     "name": "stderr",
     "output_type": "stream",
     "text": [
      "[I 2025-04-12 12:16:08,780] Trial 61 finished with value: 0.0011997412366326898 and parameters: {'n_encoder_layers': 2, 'n_decoder_layers': 2, 'encoder_layer_0': 367, 'encoder_layer_1': 354, 'decoder_layer_0': 603, 'decoder_layer_1': 777, 'dropout_enc_0': False, 'dropout_enc_1': False, 'dropout_dec_0': False, 'dropout_dec_1': False, 'latent_dim': 64}. Best is trial 33 with value: 0.001181191988871433.\n"
     ]
    },
    {
     "name": "stdout",
     "output_type": "stream",
     "text": [
      "Early stopping triggered after 89 epochs.\n"
     ]
    },
    {
     "name": "stderr",
     "output_type": "stream",
     "text": [
      "[I 2025-04-12 12:17:11,971] Trial 62 finished with value: 0.0012532485387055203 and parameters: {'n_encoder_layers': 3, 'n_decoder_layers': 2, 'encoder_layer_0': 389, 'encoder_layer_1': 392, 'encoder_layer_2': 370, 'decoder_layer_0': 395, 'decoder_layer_1': 713, 'dropout_enc_0': False, 'dropout_enc_1': False, 'dropout_enc_2': False, 'dropout_dec_0': False, 'dropout_dec_1': False, 'latent_dim': 69}. Best is trial 33 with value: 0.001181191988871433.\n"
     ]
    },
    {
     "name": "stdout",
     "output_type": "stream",
     "text": [
      "Early stopping triggered after 60 epochs.\n"
     ]
    },
    {
     "name": "stderr",
     "output_type": "stream",
     "text": [
      "[I 2025-04-12 12:18:47,547] Trial 63 finished with value: 0.001181464976980351 and parameters: {'n_encoder_layers': 2, 'n_decoder_layers': 2, 'encoder_layer_0': 358, 'encoder_layer_1': 355, 'decoder_layer_0': 350, 'decoder_layer_1': 842, 'dropout_enc_0': False, 'dropout_enc_1': False, 'dropout_dec_0': False, 'dropout_dec_1': False, 'latent_dim': 80}. Best is trial 33 with value: 0.001181191988871433.\n"
     ]
    },
    {
     "name": "stdout",
     "output_type": "stream",
     "text": [
      "Early stopping triggered after 91 epochs.\n"
     ]
    },
    {
     "name": "stderr",
     "output_type": "stream",
     "text": [
      "[I 2025-04-12 12:20:17,738] Trial 64 finished with value: 0.0012133545125834644 and parameters: {'n_encoder_layers': 5, 'n_decoder_layers': 2, 'encoder_layer_0': 445, 'encoder_layer_1': 378, 'encoder_layer_2': 135, 'encoder_layer_3': 380, 'encoder_layer_4': 215, 'decoder_layer_0': 352, 'decoder_layer_1': 321, 'dropout_enc_0': False, 'dropout_enc_1': False, 'dropout_enc_2': False, 'dropout_enc_3': True, 'dropout_enc_4': False, 'dropout_dec_0': False, 'dropout_dec_1': False, 'latent_dim': 124}. Best is trial 33 with value: 0.001181191988871433.\n"
     ]
    },
    {
     "name": "stdout",
     "output_type": "stream",
     "text": [
      "Early stopping triggered after 82 epochs.\n"
     ]
    },
    {
     "name": "stderr",
     "output_type": "stream",
     "text": [
      "[I 2025-04-12 12:21:47,903] Trial 65 finished with value: 0.0011973981047049165 and parameters: {'n_encoder_layers': 4, 'n_decoder_layers': 2, 'encoder_layer_0': 511, 'encoder_layer_1': 328, 'encoder_layer_2': 171, 'encoder_layer_3': 261, 'decoder_layer_0': 223, 'decoder_layer_1': 672, 'dropout_enc_0': False, 'dropout_enc_1': False, 'dropout_enc_2': False, 'dropout_enc_3': False, 'dropout_dec_0': False, 'dropout_dec_1': False, 'latent_dim': 106}. Best is trial 33 with value: 0.001181191988871433.\n"
     ]
    },
    {
     "name": "stdout",
     "output_type": "stream",
     "text": [
      "Early stopping triggered after 81 epochs.\n"
     ]
    },
    {
     "name": "stderr",
     "output_type": "stream",
     "text": [
      "[I 2025-04-12 12:22:57,874] Trial 66 finished with value: 0.0012057576910592615 and parameters: {'n_encoder_layers': 2, 'n_decoder_layers': 2, 'encoder_layer_0': 359, 'encoder_layer_1': 367, 'decoder_layer_0': 303, 'decoder_layer_1': 609, 'dropout_enc_0': False, 'dropout_enc_1': False, 'dropout_dec_0': False, 'dropout_dec_1': False, 'latent_dim': 52}. Best is trial 33 with value: 0.001181191988871433.\n"
     ]
    },
    {
     "name": "stdout",
     "output_type": "stream",
     "text": [
      "Early stopping triggered after 71 epochs.\n"
     ]
    },
    {
     "name": "stderr",
     "output_type": "stream",
     "text": [
      "[I 2025-04-12 12:25:16,826] Trial 67 finished with value: 0.0012305617303354666 and parameters: {'n_encoder_layers': 3, 'n_decoder_layers': 1, 'encoder_layer_0': 405, 'encoder_layer_1': 300, 'encoder_layer_2': 467, 'decoder_layer_0': 451, 'dropout_enc_0': True, 'dropout_enc_1': False, 'dropout_enc_2': True, 'dropout_dec_0': False, 'latent_dim': 17}. Best is trial 33 with value: 0.001181191988871433.\n",
      "[I 2025-04-12 12:27:13,092] Trial 68 finished with value: 0.0012625253439182416 and parameters: {'n_encoder_layers': 4, 'n_decoder_layers': 2, 'encoder_layer_0': 385, 'encoder_layer_1': 313, 'encoder_layer_2': 213, 'encoder_layer_3': 291, 'decoder_layer_0': 413, 'decoder_layer_1': 900, 'dropout_enc_0': False, 'dropout_enc_1': False, 'dropout_enc_2': False, 'dropout_enc_3': True, 'dropout_dec_0': True, 'dropout_dec_1': False, 'latent_dim': 60}. Best is trial 33 with value: 0.001181191988871433.\n"
     ]
    },
    {
     "name": "stdout",
     "output_type": "stream",
     "text": [
      "Early stopping triggered after 96 epochs.\n"
     ]
    },
    {
     "name": "stderr",
     "output_type": "stream",
     "text": [
      "[I 2025-04-12 12:28:58,495] Trial 69 finished with value: 0.0012428142043063417 and parameters: {'n_encoder_layers': 5, 'n_decoder_layers': 3, 'encoder_layer_0': 418, 'encoder_layer_1': 435, 'encoder_layer_2': 342, 'encoder_layer_3': 431, 'encoder_layer_4': 412, 'decoder_layer_0': 512, 'decoder_layer_1': 557, 'decoder_layer_2': 135, 'dropout_enc_0': False, 'dropout_enc_1': True, 'dropout_enc_2': False, 'dropout_enc_3': False, 'dropout_enc_4': True, 'dropout_dec_0': False, 'dropout_dec_1': False, 'dropout_dec_2': True, 'latent_dim': 88}. Best is trial 33 with value: 0.001181191988871433.\n"
     ]
    },
    {
     "name": "stdout",
     "output_type": "stream",
     "text": [
      "Early stopping triggered after 97 epochs.\n"
     ]
    },
    {
     "name": "stderr",
     "output_type": "stream",
     "text": [
      "[I 2025-04-12 12:30:58,998] Trial 70 finished with value: 0.0012140381324570626 and parameters: {'n_encoder_layers': 3, 'n_decoder_layers': 1, 'encoder_layer_0': 334, 'encoder_layer_1': 356, 'encoder_layer_2': 254, 'decoder_layer_0': 371, 'dropout_enc_0': False, 'dropout_enc_1': False, 'dropout_enc_2': False, 'dropout_dec_0': False, 'latent_dim': 75}. Best is trial 33 with value: 0.001181191988871433.\n",
      "[I 2025-04-12 12:32:11,184] Trial 71 finished with value: 0.0012773641297826543 and parameters: {'n_encoder_layers': 2, 'n_decoder_layers': 2, 'encoder_layer_0': 344, 'encoder_layer_1': 346, 'decoder_layer_0': 749, 'decoder_layer_1': 834, 'dropout_enc_0': False, 'dropout_enc_1': False, 'dropout_dec_0': False, 'dropout_dec_1': False, 'latent_dim': 81}. Best is trial 33 with value: 0.001181191988871433.\n"
     ]
    },
    {
     "name": "stdout",
     "output_type": "stream",
     "text": [
      "Early stopping triggered after 74 epochs.\n"
     ]
    },
    {
     "name": "stderr",
     "output_type": "stream",
     "text": [
      "[I 2025-04-12 12:33:41,228] Trial 72 finished with value: 0.0012131690862588584 and parameters: {'n_encoder_layers': 2, 'n_decoder_layers': 2, 'encoder_layer_0': 311, 'encoder_layer_1': 400, 'decoder_layer_0': 645, 'decoder_layer_1': 756, 'dropout_enc_0': False, 'dropout_enc_1': False, 'dropout_dec_0': False, 'dropout_dec_1': False, 'latent_dim': 83}. Best is trial 33 with value: 0.001181191988871433.\n"
     ]
    },
    {
     "name": "stdout",
     "output_type": "stream",
     "text": [
      "Early stopping triggered after 84 epochs.\n"
     ]
    },
    {
     "name": "stderr",
     "output_type": "stream",
     "text": [
      "[I 2025-04-12 12:34:37,994] Trial 73 finished with value: 0.0014549474086379631 and parameters: {'n_encoder_layers': 1, 'n_decoder_layers': 2, 'encoder_layer_0': 457, 'decoder_layer_0': 320, 'decoder_layer_1': 784, 'dropout_enc_0': False, 'dropout_dec_0': False, 'dropout_dec_1': False, 'latent_dim': 70}. Best is trial 33 with value: 0.001181191988871433.\n"
     ]
    },
    {
     "name": "stdout",
     "output_type": "stream",
     "text": [
      "Early stopping triggered after 61 epochs.\n"
     ]
    },
    {
     "name": "stderr",
     "output_type": "stream",
     "text": [
      "[I 2025-04-12 12:35:39,724] Trial 74 finished with value: 0.001200193926342763 and parameters: {'n_encoder_layers': 2, 'n_decoder_layers': 2, 'encoder_layer_0': 370, 'encoder_layer_1': 327, 'decoder_layer_0': 282, 'decoder_layer_1': 972, 'dropout_enc_0': False, 'dropout_enc_1': False, 'dropout_dec_0': False, 'dropout_dec_1': False, 'latent_dim': 103}. Best is trial 33 with value: 0.001181191988871433.\n"
     ]
    },
    {
     "name": "stdout",
     "output_type": "stream",
     "text": [
      "Early stopping triggered after 60 epochs.\n"
     ]
    },
    {
     "name": "stderr",
     "output_type": "stream",
     "text": [
      "[I 2025-04-12 12:36:55,843] Trial 75 finished with value: 0.0012153685733210296 and parameters: {'n_encoder_layers': 2, 'n_decoder_layers': 2, 'encoder_layer_0': 430, 'encoder_layer_1': 284, 'decoder_layer_0': 492, 'decoder_layer_1': 845, 'dropout_enc_0': False, 'dropout_enc_1': False, 'dropout_dec_0': False, 'dropout_dec_1': False, 'latent_dim': 116}. Best is trial 33 with value: 0.001181191988871433.\n"
     ]
    },
    {
     "name": "stdout",
     "output_type": "stream",
     "text": [
      "Early stopping triggered after 78 epochs.\n"
     ]
    },
    {
     "name": "stderr",
     "output_type": "stream",
     "text": [
      "[I 2025-04-12 12:37:34,515] Trial 76 finished with value: 0.0022827936190878972 and parameters: {'n_encoder_layers': 4, 'n_decoder_layers': 3, 'encoder_layer_0': 353, 'encoder_layer_1': 364, 'encoder_layer_2': 180, 'encoder_layer_3': 224, 'decoder_layer_0': 580, 'decoder_layer_1': 714, 'decoder_layer_2': 740, 'dropout_enc_0': False, 'dropout_enc_1': False, 'dropout_enc_2': False, 'dropout_enc_3': False, 'dropout_dec_0': False, 'dropout_dec_1': False, 'dropout_dec_2': True, 'latent_dim': 86}. Best is trial 33 with value: 0.001181191988871433.\n"
     ]
    },
    {
     "name": "stdout",
     "output_type": "stream",
     "text": [
      "Early stopping triggered after 30 epochs.\n"
     ]
    },
    {
     "name": "stderr",
     "output_type": "stream",
     "text": [
      "[I 2025-04-12 12:37:54,742] Trial 77 finished with value: 0.0023103134299162775 and parameters: {'n_encoder_layers': 3, 'n_decoder_layers': 6, 'encoder_layer_0': 380, 'encoder_layer_1': 308, 'encoder_layer_2': 280, 'decoder_layer_0': 538, 'decoder_layer_1': 895, 'decoder_layer_2': 335, 'decoder_layer_3': 481, 'decoder_layer_4': 994, 'decoder_layer_5': 950, 'dropout_enc_0': True, 'dropout_enc_1': False, 'dropout_enc_2': False, 'dropout_dec_0': False, 'dropout_dec_1': False, 'dropout_dec_2': True, 'dropout_dec_3': True, 'dropout_dec_4': False, 'dropout_dec_5': False, 'latent_dim': 64}. Best is trial 33 with value: 0.001181191988871433.\n"
     ]
    },
    {
     "name": "stdout",
     "output_type": "stream",
     "text": [
      "Early stopping triggered after 12 epochs.\n"
     ]
    },
    {
     "name": "stderr",
     "output_type": "stream",
     "text": [
      "[I 2025-04-12 12:39:43,609] Trial 78 finished with value: 0.0012337543274043127 and parameters: {'n_encoder_layers': 5, 'n_decoder_layers': 2, 'encoder_layer_0': 332, 'encoder_layer_1': 377, 'encoder_layer_2': 487, 'encoder_layer_3': 342, 'encoder_layer_4': 294, 'decoder_layer_0': 728, 'decoder_layer_1': 801, 'dropout_enc_0': False, 'dropout_enc_1': False, 'dropout_enc_2': True, 'dropout_enc_3': False, 'dropout_enc_4': False, 'dropout_dec_0': False, 'dropout_dec_1': False, 'latent_dim': 72}. Best is trial 33 with value: 0.001181191988871433.\n"
     ]
    },
    {
     "name": "stdout",
     "output_type": "stream",
     "text": [
      "Early stopping triggered after 91 epochs.\n"
     ]
    },
    {
     "name": "stderr",
     "output_type": "stream",
     "text": [
      "[I 2025-04-12 12:41:48,643] Trial 79 finished with value: 0.0012848044629208744 and parameters: {'n_encoder_layers': 1, 'n_decoder_layers': 2, 'encoder_layer_0': 319, 'decoder_layer_0': 460, 'decoder_layer_1': 870, 'dropout_enc_0': False, 'dropout_dec_0': True, 'dropout_dec_1': True, 'latent_dim': 90}. Best is trial 33 with value: 0.001181191988871433.\n"
     ]
    },
    {
     "name": "stdout",
     "output_type": "stream",
     "text": [
      "Early stopping triggered after 124 epochs.\n"
     ]
    },
    {
     "name": "stderr",
     "output_type": "stream",
     "text": [
      "[I 2025-04-12 12:42:15,455] Trial 80 finished with value: 0.00228182369901333 and parameters: {'n_encoder_layers': 4, 'n_decoder_layers': 3, 'encoder_layer_0': 405, 'encoder_layer_1': 409, 'encoder_layer_2': 308, 'encoder_layer_3': 207, 'decoder_layer_0': 396, 'decoder_layer_1': 692, 'decoder_layer_2': 597, 'dropout_enc_0': False, 'dropout_enc_1': False, 'dropout_enc_2': False, 'dropout_enc_3': True, 'dropout_dec_0': False, 'dropout_dec_1': False, 'dropout_dec_2': True, 'latent_dim': 112}. Best is trial 33 with value: 0.001181191988871433.\n"
     ]
    },
    {
     "name": "stdout",
     "output_type": "stream",
     "text": [
      "Early stopping triggered after 20 epochs.\n"
     ]
    },
    {
     "name": "stderr",
     "output_type": "stream",
     "text": [
      "[I 2025-04-12 12:43:18,676] Trial 81 finished with value: 0.0011968412552960217 and parameters: {'n_encoder_layers': 4, 'n_decoder_layers': 3, 'encoder_layer_0': 262, 'encoder_layer_1': 269, 'encoder_layer_2': 352, 'encoder_layer_3': 353, 'decoder_layer_0': 266, 'decoder_layer_1': 812, 'decoder_layer_2': 214, 'dropout_enc_0': False, 'dropout_enc_1': False, 'dropout_enc_2': False, 'dropout_enc_3': False, 'dropout_dec_0': False, 'dropout_dec_1': False, 'dropout_dec_2': False, 'latent_dim': 101}. Best is trial 33 with value: 0.001181191988871433.\n"
     ]
    },
    {
     "name": "stdout",
     "output_type": "stream",
     "text": [
      "Early stopping triggered after 59 epochs.\n"
     ]
    },
    {
     "name": "stderr",
     "output_type": "stream",
     "text": [
      "[I 2025-04-12 12:44:08,050] Trial 82 finished with value: 0.0012160115147707984 and parameters: {'n_encoder_layers': 4, 'n_decoder_layers': 3, 'encoder_layer_0': 304, 'encoder_layer_1': 245, 'encoder_layer_2': 384, 'encoder_layer_3': 390, 'decoder_layer_0': 335, 'decoder_layer_1': 787, 'decoder_layer_2': 455, 'dropout_enc_0': False, 'dropout_enc_1': False, 'dropout_enc_2': False, 'dropout_enc_3': False, 'dropout_dec_0': False, 'dropout_dec_1': False, 'dropout_dec_2': False, 'latent_dim': 108}. Best is trial 33 with value: 0.001181191988871433.\n"
     ]
    },
    {
     "name": "stdout",
     "output_type": "stream",
     "text": [
      "Early stopping triggered after 46 epochs.\n"
     ]
    },
    {
     "name": "stderr",
     "output_type": "stream",
     "text": [
      "[I 2025-04-12 12:44:42,918] Trial 83 finished with value: 0.0022811616596300154 and parameters: {'n_encoder_layers': 4, 'n_decoder_layers': 4, 'encoder_layer_0': 279, 'encoder_layer_1': 201, 'encoder_layer_2': 432, 'encoder_layer_3': 331, 'decoder_layer_0': 166, 'decoder_layer_1': 742, 'decoder_layer_2': 349, 'decoder_layer_3': 327, 'dropout_enc_0': False, 'dropout_enc_1': False, 'dropout_enc_2': False, 'dropout_enc_3': False, 'dropout_dec_0': False, 'dropout_dec_1': False, 'dropout_dec_2': False, 'dropout_dec_3': True, 'latent_dim': 96}. Best is trial 33 with value: 0.001181191988871433.\n"
     ]
    },
    {
     "name": "stdout",
     "output_type": "stream",
     "text": [
      "Early stopping triggered after 32 epochs.\n",
      "Early stopping triggered after 84 trials.\n"
     ]
    }
   ],
   "source": [
    "cfg = {'batch_train' : 64,\n",
    "       'batch_test' : 8,\n",
    "       'epochs' : 150,\n",
    "       'dim': [len(train_inputs[0]), len(train_targets[0])],\n",
    "       }\n",
    "\n",
    "import math\n",
    "obj_vals = []\n",
    "validation_losses = []\n",
    "stopping_patience = 50\n",
    "\n",
    "def objective(trial, train_inputs=train_inputs, train_targets=train_targets,test_inputs=test_inputs, test_targets=test_targets):\n",
    "\n",
    "    # ==== Set the seed to make sure each iteration is comparable ====\n",
    "    s = 42\n",
    "\n",
    "    torch.use_deterministic_algorithms(True)\n",
    "    torch.backends.mps.deterministic = True\n",
    "    torch.backends.mps.benchmark = False\n",
    "\n",
    "    np.random.seed(s)\n",
    "    torch.manual_seed(s)\n",
    "    torch.mps.manual_seed(s)\n",
    "    random.seed(s)\n",
    "\n",
    "    \"\"\"\n",
    "    When you try and make the BO guess the bet and target_std there is conflict - setting these two to as low as possible signficantly\n",
    "    attenuated the model's loss values itself.\n",
    "\n",
    "    But then it would be repelled by the std_loss we were calculating pulling it the other way.\n",
    "\n",
    "    So there was no objective way for the model to really actually learn to capture the variance of the data properly as\n",
    "    these two processes to conflict resulting in just an impasse between the two eventually.\n",
    "\n",
    "    So how can I actually boost the model's understanding of the variance of the data?\n",
    "\n",
    "    \"\"\"\n",
    "\n",
    "    # ===== Bayesian Trial Parameters Section =====\n",
    "\n",
    "    # ===== Loss Parameters =====\n",
    "\n",
    "    def loss_function_KLD(reconstruction, x, mean, logvar, beta=0.1, target_std=1.0):\n",
    "        MSE = torch.nn.functional.mse_loss(reconstruction, x, reduction='mean')\n",
    "\n",
    "        target_logvar = torch.log(torch.tensor(target_std ** 2).to(DEVICE))\n",
    "        KLD = -0.5 * torch.mean(1 + (logvar - target_logvar) \n",
    "                                    - (logvar.exp() / target_std ** 2))\n",
    "        \n",
    "        loss = MSE + beta * KLD\n",
    "        \n",
    "        return loss\n",
    "\n",
    "    # ===== Number of Encoder and Decoder Layers Trial =====\n",
    "    n_encoder_layers = trial.suggest_int('n_encoder_layers', 1, 5)\n",
    "    n_decoder_layers = trial.suggest_int('n_decoder_layers', 1, 6)\n",
    "\n",
    "    # ===== Layer Sizes =====\n",
    "    encoder_layers = [trial.suggest_int(f'encoder_layer_{i}', 128, 512) for i in range(n_encoder_layers)]\n",
    "    decoder_layers = [trial.suggest_int(f'decoder_layer_{i}', 128, 1024) for i in range(n_decoder_layers)]\n",
    "    \n",
    "    # ===== Dropout Layers =====\n",
    "    dropout_enc = [trial.suggest_categorical(f'dropout_enc_{i}', [True, False]) for i in range(n_encoder_layers)]\n",
    "    dropout_dec = [trial.suggest_categorical(f'dropout_dec_{i}', [True, False]) for i in range(n_decoder_layers)]\n",
    "\n",
    "    # ===== Latent Dimensionality =====\n",
    "    latent_dim = trial.suggest_int('latent_dim', 16, 128)\n",
    "    \n",
    "    # ===== Data Loaders =====\n",
    "    load_train = DataLoader(TensorDataset(train_inputs, train_targets), batch_size=cfg['batch_train'], shuffle=True, num_workers=0)\n",
    "\n",
    "    load_val = DataLoader(TensorDataset(val_inputs, val_targets), batch_size=cfg['batch_test'], shuffle=False, num_workers=0)\n",
    "\n",
    "    # ===== Model Initialisation =====\n",
    "\n",
    "    model = nt.CVAE_Opt(input_shape=cfg['dim'][0], output_shape=cfg['dim'][1], latent_dim=latent_dim, encoder_layers=encoder_layers, decoder_layers=decoder_layers,\n",
    "                 dropout_enc=dropout_enc, dropout_dec=dropout_dec)\n",
    "    model.to(DEVICE)\n",
    "\n",
    "    optimiser = torch.optim.AdamW(model.parameters(), lr=1e-3, weight_decay=1e-4)\n",
    "\n",
    "    # ====== Training Loop =====\n",
    "    early_stopping_patience = 10\n",
    "    best_val_loss = np.inf\n",
    "    epochs_without_improvement = 0\n",
    "\n",
    "    for epoch in range(cfg['epochs']):\n",
    "        avg_loss, avg_val_loss = nt.train_epoch_early_CVAE(model, load_train, load_val, loss_function_KLD, optimiser, DEVICE)\n",
    "\n",
    "        if avg_val_loss < best_val_loss:\n",
    "            best_val_loss = avg_val_loss\n",
    "            epochs_without_improvement = 0\n",
    "\n",
    "        else:\n",
    "            epochs_without_improvement += 1\n",
    "\n",
    "        if epochs_without_improvement >= early_stopping_patience:\n",
    "            print(f\"Early stopping triggered after {epoch + 1} epochs.\")\n",
    "            break\n",
    "    obj_vals.append(avg_loss)\n",
    "    validation_losses.append(avg_val_loss)\n",
    "    return avg_loss\n",
    "\n",
    "class EarlyStoppingCallback:\n",
    "    def __init__(self, patience):\n",
    "        self.patience = patience\n",
    "        self.best_value = np.inf\n",
    "        self.epochs_without_improvement = 0\n",
    "\n",
    "    def __call__(self, study, trial):\n",
    "        current_value = trial.value\n",
    "        if current_value < self.best_value:\n",
    "            self.best_value = current_value\n",
    "            self.epochs_without_improvement = 0\n",
    "        else:\n",
    "            self.epochs_without_improvement += 1\n",
    "\n",
    "        if self.epochs_without_improvement >= self.patience:\n",
    "            print(f\"Early stopping triggered after {trial.number + 1} trials.\")\n",
    "            study.stop()\n",
    "\n",
    "# Create the Optuna study with early stopping\n",
    "DEVICE = torch.device('mps')\n",
    "early_stopping = EarlyStoppingCallback(patience=stopping_patience)\n",
    "study = optuna.create_study(direction='minimize')\n",
    "study.optimize(objective, n_trials=150, callbacks=[early_stopping])\n"
   ]
  },
  {
   "cell_type": "code",
   "execution_count": 7,
   "metadata": {},
   "outputs": [
    {
     "name": "stdout",
     "output_type": "stream",
     "text": [
      "Output dictionary saved to wilson_mu_csr_cvr.json\n"
     ]
    }
   ],
   "source": [
    "model_param = study.best_trial\n",
    "output_file_path = normal_path.split('/')[1] + '.json'\n",
    "\n",
    "with open(output_file_path, 'w') as json_file:\n",
    "    json.dump(model_param.params, json_file, indent=4)\n",
    "\n",
    "print(f\"Output dictionary saved to {output_file_path}\")"
   ]
  },
  {
   "cell_type": "code",
   "execution_count": 10,
   "metadata": {},
   "outputs": [],
   "source": [
    "np.savetxt('loss_values.txt', np.array([obj_vals, validation_losses]).T, delimiter = ',', header = 'Training Loss, Validation Loss')"
   ]
  },
  {
   "cell_type": "code",
   "execution_count": null,
   "metadata": {},
   "outputs": [],
   "source": []
  }
 ],
 "metadata": {
  "kernelspec": {
   "display_name": "msci_env",
   "language": "python",
   "name": "python3"
  },
  "language_info": {
   "codemirror_mode": {
    "name": "ipython",
    "version": 3
   },
   "file_extension": ".py",
   "mimetype": "text/x-python",
   "name": "python",
   "nbconvert_exporter": "python",
   "pygments_lexer": "ipython3",
   "version": "3.9.18"
  }
 },
 "nbformat": 4,
 "nbformat_minor": 2
}
